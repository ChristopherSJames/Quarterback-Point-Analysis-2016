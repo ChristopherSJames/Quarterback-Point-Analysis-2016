{
 "cells": [
  {
   "cell_type": "markdown",
   "metadata": {},
   "source": [
    "# Run-2016-Wrangle"
   ]
  },
  {
   "cell_type": "markdown",
   "metadata": {},
   "source": [
    "Here I will be cleaning the dataset 'Career_Stats_Rushing.csv'. This dataset can be found [here](https://www.kaggle.com/kendallgillies/nflstatistics)."
   ]
  },
  {
   "cell_type": "code",
   "execution_count": 1,
   "metadata": {},
   "outputs": [],
   "source": [
    "# import all packages and set plots to be embedded inline. Also, set all columns and rows to be displayed.\n",
    "import numpy as np\n",
    "import pandas as pd\n",
    "import matplotlib.pyplot as plt\n",
    "import seaborn as sb\n",
    "\n",
    "pd.set_option('display.max_columns', None)\n",
    "pd.set_option('display.max_rows', None)\n",
    "\n",
    "\n",
    "%matplotlib inline"
   ]
  },
  {
   "cell_type": "markdown",
   "metadata": {},
   "source": [
    "### Various Functions"
   ]
  },
  {
   "cell_type": "markdown",
   "metadata": {},
   "source": [
    "## Gather"
   ]
  },
  {
   "cell_type": "code",
   "execution_count": 2,
   "metadata": {},
   "outputs": [],
   "source": [
    "# Read rushing stats into csv file and create copy for wrangling.\n",
    "df_original = pd.read_csv('Career_Stats_Rushing.csv')\n",
    "df = df_original.copy()"
   ]
  },
  {
   "cell_type": "markdown",
   "metadata": {},
   "source": [
    "## Assess 1 and 2\n",
    "\n",
    "(1) Multiple data points contain the symbol '--' to indicate missing data.<br> \n",
    "(2) The columns 'Rushing Attempts', 'Rushing Yards', 'Yards Per Carry', 'Rushing Yards Per Game', 'Rushing TDs', 'Longest Rushing Run', 'Rushing First Downs', 'Percentage of Rushing First Downs', 'Rushing More Than 20 Yards', 'Rushing More Than 40 Yards', and 'Fumbles' are of the data type 'object'.<br>"
   ]
  },
  {
   "cell_type": "markdown",
   "metadata": {},
   "source": [
    "### Assessments 1 and 2"
   ]
  },
  {
   "cell_type": "code",
   "execution_count": 3,
   "metadata": {},
   "outputs": [
    {
     "name": "stdout",
     "output_type": "stream",
     "text": [
      "<class 'pandas.core.frame.DataFrame'>\n",
      "RangeIndex: 17507 entries, 0 to 17506\n",
      "Data columns (total 18 columns):\n",
      " #   Column                             Non-Null Count  Dtype  \n",
      "---  ------                             --------------  -----  \n",
      " 0   Player Id                          17507 non-null  object \n",
      " 1   Name                               17507 non-null  object \n",
      " 2   Position                           2319 non-null   object \n",
      " 3   Year                               17507 non-null  int64  \n",
      " 4   Team                               17507 non-null  object \n",
      " 5   Games Played                       17507 non-null  int64  \n",
      " 6   Rushing Attempts                   17507 non-null  object \n",
      " 7   Rushing Attempts Per Game          17507 non-null  float64\n",
      " 8   Rushing Yards                      17507 non-null  object \n",
      " 9   Yards Per Carry                    17507 non-null  object \n",
      " 10  Rushing Yards Per Game             17507 non-null  object \n",
      " 11  Rushing TDs                        17507 non-null  object \n",
      " 12  Longest Rushing Run                17507 non-null  object \n",
      " 13  Rushing First Downs                17507 non-null  object \n",
      " 14  Percentage of Rushing First Downs  17507 non-null  object \n",
      " 15  Rushing More Than 20 Yards         17507 non-null  object \n",
      " 16  Rushing More Than 40 Yards         17507 non-null  object \n",
      " 17  Fumbles                            17507 non-null  object \n",
      "dtypes: float64(1), int64(2), object(15)\n",
      "memory usage: 2.4+ MB\n"
     ]
    }
   ],
   "source": [
    "df.info()"
   ]
  },
  {
   "cell_type": "markdown",
   "metadata": {},
   "source": [
    "## Clean - Assessments 1 and 2\n",
    "\n",
    "I will be cleaning the first two issues I found because they make further explortation more difficult."
   ]
  },
  {
   "cell_type": "markdown",
   "metadata": {},
   "source": [
    "#### Define - Assessment 1"
   ]
  },
  {
   "cell_type": "markdown",
   "metadata": {},
   "source": [
    "I will use the pandas replace function to replace all of the -- symbols with NaN."
   ]
  },
  {
   "cell_type": "markdown",
   "metadata": {},
   "source": [
    "#### Code - Assessment 1"
   ]
  },
  {
   "cell_type": "code",
   "execution_count": 4,
   "metadata": {},
   "outputs": [],
   "source": [
    "# Replace all instances of '--' with np.NaN throughout dataframe\n",
    "df.replace('--', np.NaN, inplace = True)"
   ]
  },
  {
   "cell_type": "code",
   "execution_count": 5,
   "metadata": {},
   "outputs": [
    {
     "data": {
      "text/plain": [
       "['Player Id',\n",
       " 'Name',\n",
       " 'Position',\n",
       " 'Year',\n",
       " 'Team',\n",
       " 'Games Played',\n",
       " 'Rushing Attempts',\n",
       " 'Rushing Attempts Per Game',\n",
       " 'Rushing Yards',\n",
       " 'Yards Per Carry',\n",
       " 'Rushing Yards Per Game',\n",
       " 'Rushing TDs',\n",
       " 'Longest Rushing Run',\n",
       " 'Rushing First Downs',\n",
       " 'Percentage of Rushing First Downs',\n",
       " 'Rushing More Than 20 Yards',\n",
       " 'Rushing More Than 40 Yards',\n",
       " 'Fumbles']"
      ]
     },
     "execution_count": 5,
     "metadata": {},
     "output_type": "execute_result"
    }
   ],
   "source": [
    "df.columns.tolist()"
   ]
  },
  {
   "cell_type": "markdown",
   "metadata": {},
   "source": [
    "#### Test - Assessment 1"
   ]
  },
  {
   "cell_type": "code",
   "execution_count": 6,
   "metadata": {},
   "outputs": [
    {
     "data": {
      "text/plain": [
       "0"
      ]
     },
     "execution_count": 6,
     "metadata": {},
     "output_type": "execute_result"
    }
   ],
   "source": [
    "# How many times '--' exists anywhere in dataframe.\n",
    "df.isin(['--']).any().sum()"
   ]
  },
  {
   "cell_type": "markdown",
   "metadata": {},
   "source": [
    "#### Define - Assessment 2"
   ]
  },
  {
   "cell_type": "markdown",
   "metadata": {},
   "source": [
    "I will convert all of the columns that are oft the wrong data type to the int data type."
   ]
  },
  {
   "cell_type": "markdown",
   "metadata": {},
   "source": [
    "#### Code - Assessment 2"
   ]
  },
  {
   "cell_type": "code",
   "execution_count": 7,
   "metadata": {},
   "outputs": [],
   "source": [
    "#Make list of all columns to change, then apply list to the to_numeric function\n",
    "wrong_type = ['Rushing Attempts', 'Rushing Yards', 'Yards Per Carry', 'Rushing Yards Per Game', \n",
    "              'Rushing TDs', 'Longest Rushing Run', 'Rushing First Downs', \n",
    "              'Percentage of Rushing First Downs', 'Rushing More Than 20 Yards', 'Rushing More Than 40 Yards', 'Fumbles']\n",
    "\n",
    "df[wrong_type] = df[wrong_type].apply(pd.to_numeric, errors='coerce')"
   ]
  },
  {
   "cell_type": "markdown",
   "metadata": {},
   "source": [
    "#### Test - Assessment 2"
   ]
  },
  {
   "cell_type": "code",
   "execution_count": 8,
   "metadata": {},
   "outputs": [
    {
     "name": "stdout",
     "output_type": "stream",
     "text": [
      "<class 'pandas.core.frame.DataFrame'>\n",
      "RangeIndex: 17507 entries, 0 to 17506\n",
      "Data columns (total 11 columns):\n",
      " #   Column                             Non-Null Count  Dtype  \n",
      "---  ------                             --------------  -----  \n",
      " 0   Rushing Attempts                   11457 non-null  float64\n",
      " 1   Rushing Yards                      11070 non-null  float64\n",
      " 2   Yards Per Carry                    11376 non-null  float64\n",
      " 3   Rushing Yards Per Game             11445 non-null  float64\n",
      " 4   Rushing TDs                        11457 non-null  float64\n",
      " 5   Longest Rushing Run                6725 non-null   float64\n",
      " 6   Rushing First Downs                4875 non-null   float64\n",
      " 7   Percentage of Rushing First Downs  4851 non-null   float64\n",
      " 8   Rushing More Than 20 Yards         4875 non-null   float64\n",
      " 9   Rushing More Than 40 Yards         4875 non-null   float64\n",
      " 10  Fumbles                            4875 non-null   float64\n",
      "dtypes: float64(11)\n",
      "memory usage: 1.5 MB\n"
     ]
    }
   ],
   "source": [
    "df[wrong_type].info()"
   ]
  },
  {
   "cell_type": "markdown",
   "metadata": {},
   "source": [
    "## Assess 3 onward\n",
    "\n",
    "(3) Column names have spaces in them.<br>\n",
    "(4) One row had a value greater than 100 in the column 'Percentage of Rushing First Downs'."
   ]
  },
  {
   "cell_type": "markdown",
   "metadata": {},
   "source": [
    "### Assessment 3"
   ]
  },
  {
   "cell_type": "code",
   "execution_count": 9,
   "metadata": {},
   "outputs": [
    {
     "data": {
      "text/html": [
       "<div>\n",
       "<style scoped>\n",
       "    .dataframe tbody tr th:only-of-type {\n",
       "        vertical-align: middle;\n",
       "    }\n",
       "\n",
       "    .dataframe tbody tr th {\n",
       "        vertical-align: top;\n",
       "    }\n",
       "\n",
       "    .dataframe thead th {\n",
       "        text-align: right;\n",
       "    }\n",
       "</style>\n",
       "<table border=\"1\" class=\"dataframe\">\n",
       "  <thead>\n",
       "    <tr style=\"text-align: right;\">\n",
       "      <th></th>\n",
       "      <th>Player Id</th>\n",
       "      <th>Name</th>\n",
       "      <th>Position</th>\n",
       "      <th>Year</th>\n",
       "      <th>Team</th>\n",
       "      <th>Games Played</th>\n",
       "      <th>Rushing Attempts</th>\n",
       "      <th>Rushing Attempts Per Game</th>\n",
       "      <th>Rushing Yards</th>\n",
       "      <th>Yards Per Carry</th>\n",
       "      <th>Rushing Yards Per Game</th>\n",
       "      <th>Rushing TDs</th>\n",
       "      <th>Longest Rushing Run</th>\n",
       "      <th>Rushing First Downs</th>\n",
       "      <th>Percentage of Rushing First Downs</th>\n",
       "      <th>Rushing More Than 20 Yards</th>\n",
       "      <th>Rushing More Than 40 Yards</th>\n",
       "      <th>Fumbles</th>\n",
       "    </tr>\n",
       "  </thead>\n",
       "  <tbody>\n",
       "    <tr>\n",
       "      <th>0</th>\n",
       "      <td>fredevans/2513736</td>\n",
       "      <td>Evans, Fred</td>\n",
       "      <td>NaN</td>\n",
       "      <td>1948</td>\n",
       "      <td>Chicago Bears</td>\n",
       "      <td>3</td>\n",
       "      <td>10.0</td>\n",
       "      <td>3.3</td>\n",
       "      <td>15.0</td>\n",
       "      <td>1.5</td>\n",
       "      <td>5.0</td>\n",
       "      <td>0.0</td>\n",
       "      <td>NaN</td>\n",
       "      <td>NaN</td>\n",
       "      <td>NaN</td>\n",
       "      <td>NaN</td>\n",
       "      <td>NaN</td>\n",
       "      <td>NaN</td>\n",
       "    </tr>\n",
       "    <tr>\n",
       "      <th>1</th>\n",
       "      <td>fredevans/2513736</td>\n",
       "      <td>Evans, Fred</td>\n",
       "      <td>NaN</td>\n",
       "      <td>1948</td>\n",
       "      <td>Chicago Rockets</td>\n",
       "      <td>0</td>\n",
       "      <td>NaN</td>\n",
       "      <td>0.0</td>\n",
       "      <td>NaN</td>\n",
       "      <td>NaN</td>\n",
       "      <td>NaN</td>\n",
       "      <td>NaN</td>\n",
       "      <td>NaN</td>\n",
       "      <td>NaN</td>\n",
       "      <td>NaN</td>\n",
       "      <td>NaN</td>\n",
       "      <td>NaN</td>\n",
       "      <td>NaN</td>\n",
       "    </tr>\n",
       "    <tr>\n",
       "      <th>2</th>\n",
       "      <td>fredevans/2513736</td>\n",
       "      <td>Evans, Fred</td>\n",
       "      <td>NaN</td>\n",
       "      <td>1947</td>\n",
       "      <td>Chicago Rockets</td>\n",
       "      <td>0</td>\n",
       "      <td>NaN</td>\n",
       "      <td>0.0</td>\n",
       "      <td>NaN</td>\n",
       "      <td>NaN</td>\n",
       "      <td>NaN</td>\n",
       "      <td>NaN</td>\n",
       "      <td>NaN</td>\n",
       "      <td>NaN</td>\n",
       "      <td>NaN</td>\n",
       "      <td>NaN</td>\n",
       "      <td>NaN</td>\n",
       "      <td>NaN</td>\n",
       "    </tr>\n",
       "    <tr>\n",
       "      <th>3</th>\n",
       "      <td>fredevans/2513736</td>\n",
       "      <td>Evans, Fred</td>\n",
       "      <td>NaN</td>\n",
       "      <td>1947</td>\n",
       "      <td>Buffalo Bills</td>\n",
       "      <td>0</td>\n",
       "      <td>NaN</td>\n",
       "      <td>0.0</td>\n",
       "      <td>NaN</td>\n",
       "      <td>NaN</td>\n",
       "      <td>NaN</td>\n",
       "      <td>NaN</td>\n",
       "      <td>NaN</td>\n",
       "      <td>NaN</td>\n",
       "      <td>NaN</td>\n",
       "      <td>NaN</td>\n",
       "      <td>NaN</td>\n",
       "      <td>NaN</td>\n",
       "    </tr>\n",
       "    <tr>\n",
       "      <th>4</th>\n",
       "      <td>fredevans/2513736</td>\n",
       "      <td>Evans, Fred</td>\n",
       "      <td>NaN</td>\n",
       "      <td>1946</td>\n",
       "      <td>Cleveland Browns</td>\n",
       "      <td>0</td>\n",
       "      <td>NaN</td>\n",
       "      <td>0.0</td>\n",
       "      <td>NaN</td>\n",
       "      <td>NaN</td>\n",
       "      <td>NaN</td>\n",
       "      <td>NaN</td>\n",
       "      <td>NaN</td>\n",
       "      <td>NaN</td>\n",
       "      <td>NaN</td>\n",
       "      <td>NaN</td>\n",
       "      <td>NaN</td>\n",
       "      <td>NaN</td>\n",
       "    </tr>\n",
       "  </tbody>\n",
       "</table>\n",
       "</div>"
      ],
      "text/plain": [
       "           Player Id         Name Position  Year              Team  \\\n",
       "0  fredevans/2513736  Evans, Fred      NaN  1948     Chicago Bears   \n",
       "1  fredevans/2513736  Evans, Fred      NaN  1948   Chicago Rockets   \n",
       "2  fredevans/2513736  Evans, Fred      NaN  1947   Chicago Rockets   \n",
       "3  fredevans/2513736  Evans, Fred      NaN  1947     Buffalo Bills   \n",
       "4  fredevans/2513736  Evans, Fred      NaN  1946  Cleveland Browns   \n",
       "\n",
       "   Games Played  Rushing Attempts  Rushing Attempts Per Game  Rushing Yards  \\\n",
       "0             3              10.0                        3.3           15.0   \n",
       "1             0               NaN                        0.0            NaN   \n",
       "2             0               NaN                        0.0            NaN   \n",
       "3             0               NaN                        0.0            NaN   \n",
       "4             0               NaN                        0.0            NaN   \n",
       "\n",
       "   Yards Per Carry  Rushing Yards Per Game  Rushing TDs  Longest Rushing Run  \\\n",
       "0              1.5                     5.0          0.0                  NaN   \n",
       "1              NaN                     NaN          NaN                  NaN   \n",
       "2              NaN                     NaN          NaN                  NaN   \n",
       "3              NaN                     NaN          NaN                  NaN   \n",
       "4              NaN                     NaN          NaN                  NaN   \n",
       "\n",
       "   Rushing First Downs  Percentage of Rushing First Downs  \\\n",
       "0                  NaN                                NaN   \n",
       "1                  NaN                                NaN   \n",
       "2                  NaN                                NaN   \n",
       "3                  NaN                                NaN   \n",
       "4                  NaN                                NaN   \n",
       "\n",
       "   Rushing More Than 20 Yards  Rushing More Than 40 Yards  Fumbles  \n",
       "0                         NaN                         NaN      NaN  \n",
       "1                         NaN                         NaN      NaN  \n",
       "2                         NaN                         NaN      NaN  \n",
       "3                         NaN                         NaN      NaN  \n",
       "4                         NaN                         NaN      NaN  "
      ]
     },
     "execution_count": 9,
     "metadata": {},
     "output_type": "execute_result"
    }
   ],
   "source": [
    "df.head()"
   ]
  },
  {
   "cell_type": "markdown",
   "metadata": {},
   "source": [
    "### Assessment 4"
   ]
  },
  {
   "cell_type": "code",
   "execution_count": 10,
   "metadata": {},
   "outputs": [
    {
     "data": {
      "text/html": [
       "<div>\n",
       "<style scoped>\n",
       "    .dataframe tbody tr th:only-of-type {\n",
       "        vertical-align: middle;\n",
       "    }\n",
       "\n",
       "    .dataframe tbody tr th {\n",
       "        vertical-align: top;\n",
       "    }\n",
       "\n",
       "    .dataframe thead th {\n",
       "        text-align: right;\n",
       "    }\n",
       "</style>\n",
       "<table border=\"1\" class=\"dataframe\">\n",
       "  <thead>\n",
       "    <tr style=\"text-align: right;\">\n",
       "      <th></th>\n",
       "      <th>Player Id</th>\n",
       "      <th>Name</th>\n",
       "      <th>Position</th>\n",
       "      <th>Year</th>\n",
       "      <th>Team</th>\n",
       "      <th>Games Played</th>\n",
       "      <th>Rushing Attempts</th>\n",
       "      <th>Rushing Attempts Per Game</th>\n",
       "      <th>Rushing Yards</th>\n",
       "      <th>Yards Per Carry</th>\n",
       "      <th>Rushing Yards Per Game</th>\n",
       "      <th>Rushing TDs</th>\n",
       "      <th>Longest Rushing Run</th>\n",
       "      <th>Rushing First Downs</th>\n",
       "      <th>Percentage of Rushing First Downs</th>\n",
       "      <th>Rushing More Than 20 Yards</th>\n",
       "      <th>Rushing More Than 40 Yards</th>\n",
       "      <th>Fumbles</th>\n",
       "    </tr>\n",
       "  </thead>\n",
       "  <tbody>\n",
       "    <tr>\n",
       "      <th>363</th>\n",
       "      <td>kealohapilares/2495326</td>\n",
       "      <td>Pilares, Kealoha</td>\n",
       "      <td>NaN</td>\n",
       "      <td>2012</td>\n",
       "      <td>Carolina Panthers</td>\n",
       "      <td>8</td>\n",
       "      <td>1.0</td>\n",
       "      <td>0.1</td>\n",
       "      <td>17.0</td>\n",
       "      <td>17.0</td>\n",
       "      <td>2.1</td>\n",
       "      <td>0.0</td>\n",
       "      <td>12.0</td>\n",
       "      <td>2.0</td>\n",
       "      <td>200.0</td>\n",
       "      <td>0.0</td>\n",
       "      <td>0.0</td>\n",
       "      <td>0.0</td>\n",
       "    </tr>\n",
       "  </tbody>\n",
       "</table>\n",
       "</div>"
      ],
      "text/plain": [
       "                  Player Id              Name Position  Year  \\\n",
       "363  kealohapilares/2495326  Pilares, Kealoha      NaN  2012   \n",
       "\n",
       "                  Team  Games Played  Rushing Attempts  \\\n",
       "363  Carolina Panthers             8               1.0   \n",
       "\n",
       "     Rushing Attempts Per Game  Rushing Yards  Yards Per Carry  \\\n",
       "363                        0.1           17.0             17.0   \n",
       "\n",
       "     Rushing Yards Per Game  Rushing TDs  Longest Rushing Run  \\\n",
       "363                     2.1          0.0                 12.0   \n",
       "\n",
       "     Rushing First Downs  Percentage of Rushing First Downs  \\\n",
       "363                  2.0                              200.0   \n",
       "\n",
       "     Rushing More Than 20 Yards  Rushing More Than 40 Yards  Fumbles  \n",
       "363                         0.0                         0.0      0.0  "
      ]
     },
     "execution_count": 10,
     "metadata": {},
     "output_type": "execute_result"
    }
   ],
   "source": [
    "df[df['Percentage of Rushing First Downs'] > 100]"
   ]
  },
  {
   "cell_type": "markdown",
   "metadata": {},
   "source": [
    "## Clean Assessments 3 and 4"
   ]
  },
  {
   "cell_type": "markdown",
   "metadata": {},
   "source": [
    "### Define Assessment 3"
   ]
  },
  {
   "cell_type": "markdown",
   "metadata": {},
   "source": [
    "I will use the pandas replace function to replace all spaces with underscores."
   ]
  },
  {
   "cell_type": "markdown",
   "metadata": {},
   "source": [
    "### Code Assessment 3"
   ]
  },
  {
   "cell_type": "code",
   "execution_count": 11,
   "metadata": {},
   "outputs": [],
   "source": [
    "#Create list of current column names, then use for loop to rename all columns without needing to create long dictionary.\n",
    "c_list = df.columns.tolist()\n",
    "for column in c_list:\n",
    "    df.rename(columns = {column : column.replace(' ', '_')}, inplace = True)"
   ]
  },
  {
   "cell_type": "markdown",
   "metadata": {},
   "source": [
    "### Test Assessment 3"
   ]
  },
  {
   "cell_type": "code",
   "execution_count": 12,
   "metadata": {},
   "outputs": [
    {
     "name": "stdout",
     "output_type": "stream",
     "text": [
      "<class 'pandas.core.frame.DataFrame'>\n",
      "RangeIndex: 17507 entries, 0 to 17506\n",
      "Data columns (total 18 columns):\n",
      " #   Column                             Non-Null Count  Dtype  \n",
      "---  ------                             --------------  -----  \n",
      " 0   Player_Id                          17507 non-null  object \n",
      " 1   Name                               17507 non-null  object \n",
      " 2   Position                           2319 non-null   object \n",
      " 3   Year                               17507 non-null  int64  \n",
      " 4   Team                               17507 non-null  object \n",
      " 5   Games_Played                       17507 non-null  int64  \n",
      " 6   Rushing_Attempts                   11457 non-null  float64\n",
      " 7   Rushing_Attempts_Per_Game          17507 non-null  float64\n",
      " 8   Rushing_Yards                      11070 non-null  float64\n",
      " 9   Yards_Per_Carry                    11376 non-null  float64\n",
      " 10  Rushing_Yards_Per_Game             11445 non-null  float64\n",
      " 11  Rushing_TDs                        11457 non-null  float64\n",
      " 12  Longest_Rushing_Run                6725 non-null   float64\n",
      " 13  Rushing_First_Downs                4875 non-null   float64\n",
      " 14  Percentage_of_Rushing_First_Downs  4851 non-null   float64\n",
      " 15  Rushing_More_Than_20_Yards         4875 non-null   float64\n",
      " 16  Rushing_More_Than_40_Yards         4875 non-null   float64\n",
      " 17  Fumbles                            4875 non-null   float64\n",
      "dtypes: float64(12), int64(2), object(4)\n",
      "memory usage: 2.4+ MB\n"
     ]
    }
   ],
   "source": [
    "df.info()"
   ]
  },
  {
   "cell_type": "markdown",
   "metadata": {},
   "source": [
    "### Define Assessment 4"
   ]
  },
  {
   "cell_type": "markdown",
   "metadata": {},
   "source": [
    "The stats page for this player can be found [here](https://www.espn.com/nfl/player/stats/_/id/14150/kealoha-pilares) under the rushing section. This page also appears to contain the error. Because I cannot know the validity of any of this player's data, I will delete him altogether."
   ]
  },
  {
   "cell_type": "markdown",
   "metadata": {},
   "source": [
    "### Code Assessment 4"
   ]
  },
  {
   "cell_type": "code",
   "execution_count": 13,
   "metadata": {},
   "outputs": [],
   "source": [
    "# Use pandas drop function to remove row from df.\n",
    "false_row = df.query('Percentage_of_Rushing_First_Downs > 100').index\n",
    "df.drop(false_row, inplace = True)"
   ]
  },
  {
   "cell_type": "markdown",
   "metadata": {},
   "source": [
    "### Test Assessment 4"
   ]
  },
  {
   "cell_type": "code",
   "execution_count": 14,
   "metadata": {},
   "outputs": [
    {
     "data": {
      "text/html": [
       "<div>\n",
       "<style scoped>\n",
       "    .dataframe tbody tr th:only-of-type {\n",
       "        vertical-align: middle;\n",
       "    }\n",
       "\n",
       "    .dataframe tbody tr th {\n",
       "        vertical-align: top;\n",
       "    }\n",
       "\n",
       "    .dataframe thead th {\n",
       "        text-align: right;\n",
       "    }\n",
       "</style>\n",
       "<table border=\"1\" class=\"dataframe\">\n",
       "  <thead>\n",
       "    <tr style=\"text-align: right;\">\n",
       "      <th></th>\n",
       "      <th>Player_Id</th>\n",
       "      <th>Name</th>\n",
       "      <th>Position</th>\n",
       "      <th>Year</th>\n",
       "      <th>Team</th>\n",
       "      <th>Games_Played</th>\n",
       "      <th>Rushing_Attempts</th>\n",
       "      <th>Rushing_Attempts_Per_Game</th>\n",
       "      <th>Rushing_Yards</th>\n",
       "      <th>Yards_Per_Carry</th>\n",
       "      <th>Rushing_Yards_Per_Game</th>\n",
       "      <th>Rushing_TDs</th>\n",
       "      <th>Longest_Rushing_Run</th>\n",
       "      <th>Rushing_First_Downs</th>\n",
       "      <th>Percentage_of_Rushing_First_Downs</th>\n",
       "      <th>Rushing_More_Than_20_Yards</th>\n",
       "      <th>Rushing_More_Than_40_Yards</th>\n",
       "      <th>Fumbles</th>\n",
       "    </tr>\n",
       "  </thead>\n",
       "  <tbody>\n",
       "  </tbody>\n",
       "</table>\n",
       "</div>"
      ],
      "text/plain": [
       "Empty DataFrame\n",
       "Columns: [Player_Id, Name, Position, Year, Team, Games_Played, Rushing_Attempts, Rushing_Attempts_Per_Game, Rushing_Yards, Yards_Per_Carry, Rushing_Yards_Per_Game, Rushing_TDs, Longest_Rushing_Run, Rushing_First_Downs, Percentage_of_Rushing_First_Downs, Rushing_More_Than_20_Yards, Rushing_More_Than_40_Yards, Fumbles]\n",
       "Index: []"
      ]
     },
     "execution_count": 14,
     "metadata": {},
     "output_type": "execute_result"
    }
   ],
   "source": [
    "df.query('Percentage_of_Rushing_First_Downs > 100')"
   ]
  },
  {
   "cell_type": "code",
   "execution_count": 15,
   "metadata": {},
   "outputs": [],
   "source": [
    "# Create master csv file\n",
    "df.to_csv('Career_Stats_Rushing_master.csv', index = False)"
   ]
  }
 ],
 "metadata": {
  "kernelspec": {
   "display_name": "Python 3",
   "language": "python",
   "name": "python3"
  },
  "language_info": {
   "codemirror_mode": {
    "name": "ipython",
    "version": 3
   },
   "file_extension": ".py",
   "mimetype": "text/x-python",
   "name": "python",
   "nbconvert_exporter": "python",
   "pygments_lexer": "ipython3",
   "version": "3.7.6"
  }
 },
 "nbformat": 4,
 "nbformat_minor": 2
}
