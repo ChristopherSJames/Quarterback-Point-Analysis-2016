{
 "cells": [
  {
   "cell_type": "markdown",
   "metadata": {},
   "source": [
    "# Run-2016-Wrangle"
   ]
  },
  {
   "cell_type": "markdown",
   "metadata": {},
   "source": [
    "Here I will be cleaning the dataset 'Career_Stats_Rushing.csv'. This dataset can be found at https://www.kaggle.com/kendallgillies/nflstatistics."
   ]
  },
  {
   "cell_type": "code",
   "execution_count": 1,
   "metadata": {},
   "outputs": [],
   "source": [
    "# import all packages and set plots to be embedded inline. Also, set all columns and rows to be displayed.\n",
    "import numpy as np\n",
    "import pandas as pd\n",
    "import matplotlib.pyplot as plt\n",
    "import seaborn as sb\n",
    "\n",
    "pd.set_option('display.max_columns', None)\n",
    "pd.set_option('display.max_rows', None)\n",
    "\n",
    "\n",
    "%matplotlib inline"
   ]
  },
  {
   "cell_type": "markdown",
   "metadata": {},
   "source": [
    "### Various Functions"
   ]
  },
  {
   "cell_type": "markdown",
   "metadata": {},
   "source": [
    "## Gather"
   ]
  },
  {
   "cell_type": "code",
   "execution_count": 2,
   "metadata": {},
   "outputs": [],
   "source": [
    "# Read rushing stats into csv file and create copy for wrangling.\n",
    "df_original = pd.read_csv('Career_Stats_Rushing.csv')\n",
    "df = df_original.copy()"
   ]
  },
  {
   "cell_type": "markdown",
   "metadata": {},
   "source": [
    "## Assess\n",
    "\n",
    "(1) Column names have spaces in them.<br>\n",
    "(2) The columns 'Rushing Attempts', 'Rushing Yards', 'Yards Per Carry', 'Rushing Yards Per Game', 'Rushing TDs', 'Longest Rushing Run', 'Rushing First Downs', 'Percentage of Rushing First Downs', 'Rushing More Than 20 Yards', 'Rushing More Than 40 Yards', and 'Fumbles' are of the data type 'object'.<br>\n",
    "(3) Multiple data points contain the symbol '--' to indicate missing data.<br>"
   ]
  },
  {
   "cell_type": "markdown",
   "metadata": {},
   "source": [
    "### Assessments 1 and 2"
   ]
  },
  {
   "cell_type": "code",
   "execution_count": 3,
   "metadata": {},
   "outputs": [
    {
     "name": "stdout",
     "output_type": "stream",
     "text": [
      "<class 'pandas.core.frame.DataFrame'>\n",
      "RangeIndex: 17507 entries, 0 to 17506\n",
      "Data columns (total 18 columns):\n",
      " #   Column                             Non-Null Count  Dtype  \n",
      "---  ------                             --------------  -----  \n",
      " 0   Player Id                          17507 non-null  object \n",
      " 1   Name                               17507 non-null  object \n",
      " 2   Position                           2319 non-null   object \n",
      " 3   Year                               17507 non-null  int64  \n",
      " 4   Team                               17507 non-null  object \n",
      " 5   Games Played                       17507 non-null  int64  \n",
      " 6   Rushing Attempts                   17507 non-null  object \n",
      " 7   Rushing Attempts Per Game          17507 non-null  float64\n",
      " 8   Rushing Yards                      17507 non-null  object \n",
      " 9   Yards Per Carry                    17507 non-null  object \n",
      " 10  Rushing Yards Per Game             17507 non-null  object \n",
      " 11  Rushing TDs                        17507 non-null  object \n",
      " 12  Longest Rushing Run                17507 non-null  object \n",
      " 13  Rushing First Downs                17507 non-null  object \n",
      " 14  Percentage of Rushing First Downs  17507 non-null  object \n",
      " 15  Rushing More Than 20 Yards         17507 non-null  object \n",
      " 16  Rushing More Than 40 Yards         17507 non-null  object \n",
      " 17  Fumbles                            17507 non-null  object \n",
      "dtypes: float64(1), int64(2), object(15)\n",
      "memory usage: 2.4+ MB\n"
     ]
    }
   ],
   "source": [
    "df.info()"
   ]
  },
  {
   "cell_type": "markdown",
   "metadata": {},
   "source": [
    "### Assessment 3"
   ]
  },
  {
   "cell_type": "code",
   "execution_count": 4,
   "metadata": {},
   "outputs": [
    {
     "data": {
      "text/html": [
       "<div>\n",
       "<style scoped>\n",
       "    .dataframe tbody tr th:only-of-type {\n",
       "        vertical-align: middle;\n",
       "    }\n",
       "\n",
       "    .dataframe tbody tr th {\n",
       "        vertical-align: top;\n",
       "    }\n",
       "\n",
       "    .dataframe thead th {\n",
       "        text-align: right;\n",
       "    }\n",
       "</style>\n",
       "<table border=\"1\" class=\"dataframe\">\n",
       "  <thead>\n",
       "    <tr style=\"text-align: right;\">\n",
       "      <th></th>\n",
       "      <th>Player Id</th>\n",
       "      <th>Name</th>\n",
       "      <th>Position</th>\n",
       "      <th>Year</th>\n",
       "      <th>Team</th>\n",
       "      <th>Games Played</th>\n",
       "      <th>Rushing Attempts</th>\n",
       "      <th>Rushing Attempts Per Game</th>\n",
       "      <th>Rushing Yards</th>\n",
       "      <th>Yards Per Carry</th>\n",
       "      <th>Rushing Yards Per Game</th>\n",
       "      <th>Rushing TDs</th>\n",
       "      <th>Longest Rushing Run</th>\n",
       "      <th>Rushing First Downs</th>\n",
       "      <th>Percentage of Rushing First Downs</th>\n",
       "      <th>Rushing More Than 20 Yards</th>\n",
       "      <th>Rushing More Than 40 Yards</th>\n",
       "      <th>Fumbles</th>\n",
       "    </tr>\n",
       "  </thead>\n",
       "  <tbody>\n",
       "    <tr>\n",
       "      <th>0</th>\n",
       "      <td>fredevans/2513736</td>\n",
       "      <td>Evans, Fred</td>\n",
       "      <td>NaN</td>\n",
       "      <td>1948</td>\n",
       "      <td>Chicago Bears</td>\n",
       "      <td>3</td>\n",
       "      <td>10</td>\n",
       "      <td>3.3</td>\n",
       "      <td>15</td>\n",
       "      <td>1.5</td>\n",
       "      <td>5.0</td>\n",
       "      <td>0</td>\n",
       "      <td>--</td>\n",
       "      <td>--</td>\n",
       "      <td>--</td>\n",
       "      <td>--</td>\n",
       "      <td>--</td>\n",
       "      <td>--</td>\n",
       "    </tr>\n",
       "    <tr>\n",
       "      <th>1</th>\n",
       "      <td>fredevans/2513736</td>\n",
       "      <td>Evans, Fred</td>\n",
       "      <td>NaN</td>\n",
       "      <td>1948</td>\n",
       "      <td>Chicago Rockets</td>\n",
       "      <td>0</td>\n",
       "      <td>--</td>\n",
       "      <td>0.0</td>\n",
       "      <td>--</td>\n",
       "      <td>--</td>\n",
       "      <td>--</td>\n",
       "      <td>--</td>\n",
       "      <td>--</td>\n",
       "      <td>--</td>\n",
       "      <td>--</td>\n",
       "      <td>--</td>\n",
       "      <td>--</td>\n",
       "      <td>--</td>\n",
       "    </tr>\n",
       "    <tr>\n",
       "      <th>2</th>\n",
       "      <td>fredevans/2513736</td>\n",
       "      <td>Evans, Fred</td>\n",
       "      <td>NaN</td>\n",
       "      <td>1947</td>\n",
       "      <td>Chicago Rockets</td>\n",
       "      <td>0</td>\n",
       "      <td>--</td>\n",
       "      <td>0.0</td>\n",
       "      <td>--</td>\n",
       "      <td>--</td>\n",
       "      <td>--</td>\n",
       "      <td>--</td>\n",
       "      <td>--</td>\n",
       "      <td>--</td>\n",
       "      <td>--</td>\n",
       "      <td>--</td>\n",
       "      <td>--</td>\n",
       "      <td>--</td>\n",
       "    </tr>\n",
       "    <tr>\n",
       "      <th>3</th>\n",
       "      <td>fredevans/2513736</td>\n",
       "      <td>Evans, Fred</td>\n",
       "      <td>NaN</td>\n",
       "      <td>1947</td>\n",
       "      <td>Buffalo Bills</td>\n",
       "      <td>0</td>\n",
       "      <td>--</td>\n",
       "      <td>0.0</td>\n",
       "      <td>--</td>\n",
       "      <td>--</td>\n",
       "      <td>--</td>\n",
       "      <td>--</td>\n",
       "      <td>--</td>\n",
       "      <td>--</td>\n",
       "      <td>--</td>\n",
       "      <td>--</td>\n",
       "      <td>--</td>\n",
       "      <td>--</td>\n",
       "    </tr>\n",
       "    <tr>\n",
       "      <th>4</th>\n",
       "      <td>fredevans/2513736</td>\n",
       "      <td>Evans, Fred</td>\n",
       "      <td>NaN</td>\n",
       "      <td>1946</td>\n",
       "      <td>Cleveland Browns</td>\n",
       "      <td>0</td>\n",
       "      <td>--</td>\n",
       "      <td>0.0</td>\n",
       "      <td>--</td>\n",
       "      <td>--</td>\n",
       "      <td>--</td>\n",
       "      <td>--</td>\n",
       "      <td>--</td>\n",
       "      <td>--</td>\n",
       "      <td>--</td>\n",
       "      <td>--</td>\n",
       "      <td>--</td>\n",
       "      <td>--</td>\n",
       "    </tr>\n",
       "  </tbody>\n",
       "</table>\n",
       "</div>"
      ],
      "text/plain": [
       "           Player Id         Name Position  Year              Team  \\\n",
       "0  fredevans/2513736  Evans, Fred      NaN  1948     Chicago Bears   \n",
       "1  fredevans/2513736  Evans, Fred      NaN  1948   Chicago Rockets   \n",
       "2  fredevans/2513736  Evans, Fred      NaN  1947   Chicago Rockets   \n",
       "3  fredevans/2513736  Evans, Fred      NaN  1947     Buffalo Bills   \n",
       "4  fredevans/2513736  Evans, Fred      NaN  1946  Cleveland Browns   \n",
       "\n",
       "   Games Played Rushing Attempts  Rushing Attempts Per Game Rushing Yards  \\\n",
       "0             3               10                        3.3            15   \n",
       "1             0               --                        0.0            --   \n",
       "2             0               --                        0.0            --   \n",
       "3             0               --                        0.0            --   \n",
       "4             0               --                        0.0            --   \n",
       "\n",
       "  Yards Per Carry Rushing Yards Per Game Rushing TDs Longest Rushing Run  \\\n",
       "0             1.5                    5.0           0                  --   \n",
       "1              --                     --          --                  --   \n",
       "2              --                     --          --                  --   \n",
       "3              --                     --          --                  --   \n",
       "4              --                     --          --                  --   \n",
       "\n",
       "  Rushing First Downs Percentage of Rushing First Downs  \\\n",
       "0                  --                                --   \n",
       "1                  --                                --   \n",
       "2                  --                                --   \n",
       "3                  --                                --   \n",
       "4                  --                                --   \n",
       "\n",
       "  Rushing More Than 20 Yards Rushing More Than 40 Yards Fumbles  \n",
       "0                         --                         --      --  \n",
       "1                         --                         --      --  \n",
       "2                         --                         --      --  \n",
       "3                         --                         --      --  \n",
       "4                         --                         --      --  "
      ]
     },
     "execution_count": 4,
     "metadata": {},
     "output_type": "execute_result"
    }
   ],
   "source": [
    "df.head()"
   ]
  },
  {
   "cell_type": "markdown",
   "metadata": {},
   "source": [
    "## Clean"
   ]
  },
  {
   "cell_type": "markdown",
   "metadata": {},
   "source": [
    "#### Define"
   ]
  },
  {
   "cell_type": "markdown",
   "metadata": {},
   "source": [
    "#### Code"
   ]
  },
  {
   "cell_type": "code",
   "execution_count": null,
   "metadata": {},
   "outputs": [],
   "source": []
  },
  {
   "cell_type": "markdown",
   "metadata": {},
   "source": [
    "#### Test"
   ]
  },
  {
   "cell_type": "code",
   "execution_count": null,
   "metadata": {},
   "outputs": [],
   "source": []
  }
 ],
 "metadata": {
  "kernelspec": {
   "display_name": "Python 3",
   "language": "python",
   "name": "python3"
  },
  "language_info": {
   "codemirror_mode": {
    "name": "ipython",
    "version": 3
   },
   "file_extension": ".py",
   "mimetype": "text/x-python",
   "name": "python",
   "nbconvert_exporter": "python",
   "pygments_lexer": "ipython3",
   "version": "3.7.6"
  }
 },
 "nbformat": 4,
 "nbformat_minor": 2
}
