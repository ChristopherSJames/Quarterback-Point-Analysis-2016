{
 "cells": [
  {
   "cell_type": "markdown",
   "metadata": {},
   "source": [
    "# NFL Play by Play 2009-2018 Wrangle"
   ]
  },
  {
   "cell_type": "code",
   "execution_count": 1,
   "metadata": {},
   "outputs": [],
   "source": [
    "# import all packages and set plots to be embedded inline. Also, set all columns and rows to be displayed.\n",
    "import numpy as np\n",
    "import pandas as pd\n",
    "import matplotlib.pyplot as plt\n",
    "import seaborn as sb\n",
    "\n",
    "pd.set_option('display.max_columns', None)\n",
    "pd.set_option('display.max_rows', None)\n",
    "\n",
    "\n",
    "%matplotlib inline"
   ]
  },
  {
   "cell_type": "markdown",
   "metadata": {},
   "source": [
    "### Various Functions"
   ]
  },
  {
   "cell_type": "markdown",
   "metadata": {},
   "source": [
    "## Gather"
   ]
  },
  {
   "cell_type": "code",
   "execution_count": 2,
   "metadata": {},
   "outputs": [],
   "source": [
    "df_original = pd.read_csv('pass-2016.csv')\n",
    "df = df_original.copy()"
   ]
  },
  {
   "cell_type": "code",
   "execution_count": 3,
   "metadata": {},
   "outputs": [
    {
     "name": "stdout",
     "output_type": "stream",
     "text": [
      "<class 'pandas.core.frame.DataFrame'>\n",
      "RangeIndex: 96 entries, 0 to 95\n",
      "Data columns (total 30 columns):\n",
      " #   Column  Non-Null Count  Dtype  \n",
      "---  ------  --------------  -----  \n",
      " 0   Rk      96 non-null     int64  \n",
      " 1   Player  96 non-null     object \n",
      " 2   Tm      96 non-null     object \n",
      " 3   Age     96 non-null     int64  \n",
      " 4   Pos     78 non-null     object \n",
      " 5   G       96 non-null     int64  \n",
      " 6   GS      96 non-null     int64  \n",
      " 7   QBrec   54 non-null     object \n",
      " 8   Cmp     96 non-null     int64  \n",
      " 9   Att     96 non-null     int64  \n",
      " 10  Cmp%    96 non-null     float64\n",
      " 11  Yds     96 non-null     int64  \n",
      " 12  TD      96 non-null     int64  \n",
      " 13  TD%     96 non-null     float64\n",
      " 14  Int     96 non-null     int64  \n",
      " 15  Int%    96 non-null     float64\n",
      " 16  Lng     96 non-null     int64  \n",
      " 17  Y/A     96 non-null     float64\n",
      " 18  AY/A    96 non-null     float64\n",
      " 19  Y/C     81 non-null     float64\n",
      " 20  Y/G     96 non-null     float64\n",
      " 21  Rate    96 non-null     float64\n",
      " 22  QBR     88 non-null     float64\n",
      " 23  Sk      96 non-null     int64  \n",
      " 24  Yds.1   96 non-null     int64  \n",
      " 25  NY/A    96 non-null     float64\n",
      " 26  ANY/A   96 non-null     float64\n",
      " 27  Sk%     96 non-null     float64\n",
      " 28  4QC     33 non-null     float64\n",
      " 29  GWD     33 non-null     float64\n",
      "dtypes: float64(14), int64(12), object(4)\n",
      "memory usage: 22.6+ KB\n"
     ]
    }
   ],
   "source": [
    "df.info()"
   ]
  },
  {
   "cell_type": "markdown",
   "metadata": {},
   "source": [
    "## Assess\n",
    "(1) Players have some sort of unique ID next to their names that is not needed.<br>\n",
    "(2) The QBrec column contains 3 data points."
   ]
  },
  {
   "cell_type": "markdown",
   "metadata": {},
   "source": [
    "### Assessment 1"
   ]
  },
  {
   "cell_type": "code",
   "execution_count": 7,
   "metadata": {},
   "outputs": [
    {
     "data": {
      "text/plain": [
       "Pharoh Cooper\\CoopPh00          1\n",
       "Cardale Jones\\JoneCa01          1\n",
       "Kirk Cousins*\\CousKi00          1\n",
       "Ben Roethlisberger*\\RoetBe00    1\n",
       "Kellen Clemens\\ClemKe00         1\n",
       "Chase Daniel\\DaniCh00           1\n",
       "Le'Veon Bell*\\BellLe00          1\n",
       "Tress Way\\WayxTr00              1\n",
       "Brock Osweiler\\OsweBr00         1\n",
       "Tyrod Taylor\\TaylTy00           1\n",
       "Nick Foles\\FoleNi00             1\n",
       "Dez Bryant*\\BryaDe01            1\n",
       "Bryce Petty\\PettBr01            1\n",
       "Aaron Rodgers*\\RodgAa00         1\n",
       "Travis Benjamin\\BenjTr00        1\n",
       "Terrelle Pryor\\PryoTe00         1\n",
       "Andy Dalton*\\DaltAn00           1\n",
       "Derek Anderson\\AndeDe00         1\n",
       "Eli Manning\\MannEl00            1\n",
       "Jarvis Landry*\\LandJa00         1\n",
       "Philip Rivers*\\RivePh00         1\n",
       "Derek Carr*\\CarrDe02            1\n",
       "David Fales\\FaleDa00            1\n",
       "Blake Bortles\\BortBl00          1\n",
       "Jon Ryan\\RyanJo21               1\n",
       "Justin Tucker*+\\TuckJu00        1\n",
       "Jeremy Maclin\\MaclJe00          1\n",
       "Antonio Morrison\\MorrAn01       1\n",
       "Geno Smith\\SmitGe00             1\n",
       "Jameis Winston\\WinsJa00         1\n",
       "Pat McAfee*\\McAfPa44            1\n",
       "Sean Mannion\\MannSe00           1\n",
       "Matthew Stafford\\StafMa00       1\n",
       "Doug Baldwin*\\BaldDo00          1\n",
       "Tanner McEvoy\\McEvTa01          1\n",
       "Larry Fitzgerald*\\FitzLa00      1\n",
       "Ryan Mallett\\MallRy00           1\n",
       "Jay Cutler\\CutlJa00             1\n",
       "Case Keenum\\KeenCa00            1\n",
       "DeMarco Murray*\\MurrDe00        1\n",
       "Riley Dixon\\DixoRi00            1\n",
       "Cody Kessler\\KessCo00           1\n",
       "Marqise Lee\\LeexMa00            1\n",
       "Johnny Hekker*+\\HekkJo00        1\n",
       "Drew Stanton\\StanDr00           1\n",
       "Joe Flacco\\FlacJo00             1\n",
       "Carson Wentz\\WentCa00           1\n",
       "Dontari Poe\\PoexDo00            1\n",
       "Sam Bradford\\BradSa00           1\n",
       "Matt Cassel\\CassMa00            1\n",
       "Alex Smith*\\SmitAl03            1\n",
       "Andrew Luck\\LuckAn00            1\n",
       "Trevor Siemian\\SiemTr00         1\n",
       "Cameron Meredith\\MereCa00       1\n",
       "Ryan Fitzpatrick\\FitzRy00       1\n",
       "Jacoby Brissett\\BrisJa00        1\n",
       "Scott Tolzien\\TolzSc00          1\n",
       "Connor Cook\\CookCo00            1\n",
       "Carson Palmer\\PalmCa00          1\n",
       "Landry Jones\\JoneLa02           1\n",
       "Brett Hundley\\HundBr00          1\n",
       "Robert Griffin\\GrifRo01         1\n",
       "Drew Brees*\\BreeDr00            1\n",
       "Matt McGloin\\McGlMa01           1\n",
       "Dak Prescott*\\PresDa01          1\n",
       "Shaun Hill\\HillSh00             1\n",
       "Jonathan Williams\\WillJo07      1\n",
       "Tom Savage\\SavaTo00             1\n",
       "EJ Manuel\\ManuEJ00              1\n",
       "Blaine Gabbert\\GabbBl00         1\n",
       "Mike Glennon\\GlenMi00           1\n",
       "Tom Brady*\\BradTo00             1\n",
       "Cam Newton\\NewtCa00             1\n",
       "Marcus Mariota\\MariMa01         1\n",
       "Matt Ryan*+\\RyanMa00            1\n",
       "Russell Wilson\\WilsRu00         1\n",
       "Paxton Lynch\\LyncPa00           1\n",
       "Mark Sanchez\\SancMa00           1\n",
       "Matt Schaub\\SchaMa00            1\n",
       "Matt Moore\\MoorMa01             1\n",
       "Colin Kaepernick\\KaepCo00       1\n",
       "Josh McCown\\McCoJo01            1\n",
       "Cole Beasley\\BeasCo00           1\n",
       "Charlie Whitehurst\\WhitCh02     1\n",
       "Willie Snead\\SneaWi00           1\n",
       "Kevin Hogan\\HogaKe00            1\n",
       "Jerick McKinnon\\McKiJe00        1\n",
       "Trevone Boykin\\BoykTr00         1\n",
       "Jared Goff\\GoffJa00             1\n",
       "Brian Hoyer\\HoyeBr00            1\n",
       "Jimmy Garoppolo\\GaroJi00        1\n",
       "Ryan Tannehill\\TannRy00         1\n",
       "Matt Barkley\\BarkMa00           1\n",
       "Tony Romo\\RomoTo00              1\n",
       "Duke Johnson\\JohnDu00           1\n",
       "Josh Huff\\HuffJo00              1\n",
       "Name: Player, dtype: int64"
      ]
     },
     "execution_count": 7,
     "metadata": {},
     "output_type": "execute_result"
    }
   ],
   "source": [
    "df['Player'].value_counts()"
   ]
  },
  {
   "cell_type": "markdown",
   "metadata": {},
   "source": [
    "### Assessment 2"
   ]
  },
  {
   "cell_type": "code",
   "execution_count": 15,
   "metadata": {},
   "outputs": [
    {
     "data": {
      "text/plain": [
       "1-0-0     5\n",
       "1-1-0     4\n",
       "1-4-0     4\n",
       "0-1-0     3\n",
       "7-8-0     2\n",
       "8-7-0     2\n",
       "11-5-0    2\n",
       "7-9-0     2\n",
       "9-7-0     2\n",
       "8-6-0     2\n",
       "6-8-0     1\n",
       "0-3-0     1\n",
       "8-8-0     1\n",
       "10-6-0    1\n",
       "4-5-0     1\n",
       "6-9-1     1\n",
       "2-0-0     1\n",
       "0-7-0     1\n",
       "8-7-1     1\n",
       "0-8-0     1\n",
       "12-3-0    1\n",
       "10-5-1    1\n",
       "13-3-0    1\n",
       "10-4-0    1\n",
       "6-8-1     1\n",
       "11-1-0    1\n",
       "3-8-0     1\n",
       "3-13-0    1\n",
       "5-11-0    1\n",
       "11-4-0    1\n",
       "1-3-0     1\n",
       "0-2-0     1\n",
       "1-10-0    1\n",
       "8-5-0     1\n",
       "1-5-0     1\n",
       "2-1-0     1\n",
       "Name: QBrec, dtype: int64"
      ]
     },
     "execution_count": 15,
     "metadata": {},
     "output_type": "execute_result"
    }
   ],
   "source": [
    "df['QBrec'].value_counts()"
   ]
  },
  {
   "cell_type": "markdown",
   "metadata": {},
   "source": [
    "## Clean"
   ]
  },
  {
   "cell_type": "markdown",
   "metadata": {},
   "source": [
    "#### Define"
   ]
  },
  {
   "cell_type": "markdown",
   "metadata": {},
   "source": [
    "#### Code"
   ]
  },
  {
   "cell_type": "code",
   "execution_count": null,
   "metadata": {
    "collapsed": true
   },
   "outputs": [],
   "source": []
  },
  {
   "cell_type": "markdown",
   "metadata": {},
   "source": [
    "#### Test"
   ]
  },
  {
   "cell_type": "code",
   "execution_count": null,
   "metadata": {
    "collapsed": true
   },
   "outputs": [],
   "source": []
  }
 ],
 "metadata": {
  "kernelspec": {
   "display_name": "Python 3",
   "language": "python",
   "name": "python3"
  },
  "language_info": {
   "codemirror_mode": {
    "name": "ipython",
    "version": 3
   },
   "file_extension": ".py",
   "mimetype": "text/x-python",
   "name": "python",
   "nbconvert_exporter": "python",
   "pygments_lexer": "ipython3",
   "version": "3.7.6"
  }
 },
 "nbformat": 4,
 "nbformat_minor": 2
}
