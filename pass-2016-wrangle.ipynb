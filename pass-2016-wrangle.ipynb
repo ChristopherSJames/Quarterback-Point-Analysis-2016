{
 "cells": [
  {
   "cell_type": "markdown",
   "metadata": {},
   "source": [
    "# pass-2016 Wrangle\n",
    "\n",
    "In this notebook, I will be cleaning data from 'pass-2016.csv'."
   ]
  },
  {
   "cell_type": "code",
   "execution_count": 1,
   "metadata": {},
   "outputs": [],
   "source": [
    "# import all packages and set plots to be embedded inline. Also, set all columns and rows to be displayed.\n",
    "import numpy as np\n",
    "import pandas as pd\n",
    "import matplotlib.pyplot as plt\n",
    "import seaborn as sb\n",
    "\n",
    "pd.set_option('display.max_columns', None)\n",
    "pd.set_option('display.max_rows', None)\n",
    "\n",
    "\n",
    "%matplotlib inline"
   ]
  },
  {
   "cell_type": "markdown",
   "metadata": {},
   "source": [
    "### Various Functions"
   ]
  },
  {
   "cell_type": "markdown",
   "metadata": {},
   "source": [
    "## Gather"
   ]
  },
  {
   "cell_type": "code",
   "execution_count": 2,
   "metadata": {},
   "outputs": [],
   "source": [
    "# Load df into df called df_original. Make copy called df for analysis\n",
    "df_original = pd.read_csv('pass-2016.csv')\n",
    "df = df_original.copy()"
   ]
  },
  {
   "cell_type": "code",
   "execution_count": 3,
   "metadata": {},
   "outputs": [
    {
     "name": "stdout",
     "output_type": "stream",
     "text": [
      "<class 'pandas.core.frame.DataFrame'>\n",
      "RangeIndex: 96 entries, 0 to 95\n",
      "Data columns (total 30 columns):\n",
      " #   Column  Non-Null Count  Dtype  \n",
      "---  ------  --------------  -----  \n",
      " 0   Rk      96 non-null     int64  \n",
      " 1   Player  96 non-null     object \n",
      " 2   Tm      96 non-null     object \n",
      " 3   Age     96 non-null     int64  \n",
      " 4   Pos     78 non-null     object \n",
      " 5   G       96 non-null     int64  \n",
      " 6   GS      96 non-null     int64  \n",
      " 7   QBrec   54 non-null     object \n",
      " 8   Cmp     96 non-null     int64  \n",
      " 9   Att     96 non-null     int64  \n",
      " 10  Cmp%    96 non-null     float64\n",
      " 11  Yds     96 non-null     int64  \n",
      " 12  TD      96 non-null     int64  \n",
      " 13  TD%     96 non-null     float64\n",
      " 14  Int     96 non-null     int64  \n",
      " 15  Int%    96 non-null     float64\n",
      " 16  Lng     96 non-null     int64  \n",
      " 17  Y/A     96 non-null     float64\n",
      " 18  AY/A    96 non-null     float64\n",
      " 19  Y/C     81 non-null     float64\n",
      " 20  Y/G     96 non-null     float64\n",
      " 21  Rate    96 non-null     float64\n",
      " 22  QBR     88 non-null     float64\n",
      " 23  Sk      96 non-null     int64  \n",
      " 24  Yds.1   96 non-null     int64  \n",
      " 25  NY/A    96 non-null     float64\n",
      " 26  ANY/A   96 non-null     float64\n",
      " 27  Sk%     96 non-null     float64\n",
      " 28  4QC     33 non-null     float64\n",
      " 29  GWD     33 non-null     float64\n",
      "dtypes: float64(14), int64(12), object(4)\n",
      "memory usage: 22.6+ KB\n"
     ]
    }
   ],
   "source": [
    "df.info()"
   ]
  },
  {
   "cell_type": "markdown",
   "metadata": {},
   "source": [
    "## Assess\n",
    "(1) Players have some sort of unique ID next to their names that is not needed.<br>\n",
    "(2) The QBrec column contains 3 data points."
   ]
  },
  {
   "cell_type": "markdown",
   "metadata": {},
   "source": [
    "### Assessment 1"
   ]
  },
  {
   "cell_type": "code",
   "execution_count": 4,
   "metadata": {},
   "outputs": [
    {
     "data": {
      "text/plain": [
       "Antonio Morrison\\MorrAn01       1\n",
       "Aaron Rodgers*\\RodgAa00         1\n",
       "Paxton Lynch\\LyncPa00           1\n",
       "Jared Goff\\GoffJa00             1\n",
       "Cardale Jones\\JoneCa01          1\n",
       "Derek Carr*\\CarrDe02            1\n",
       "Jonathan Williams\\WillJo07      1\n",
       "Blake Bortles\\BortBl00          1\n",
       "EJ Manuel\\ManuEJ00              1\n",
       "Robert Griffin\\GrifRo01         1\n",
       "Drew Brees*\\BreeDr00            1\n",
       "Andy Dalton*\\DaltAn00           1\n",
       "Marqise Lee\\LeexMa00            1\n",
       "Eli Manning\\MannEl00            1\n",
       "Ryan Mallett\\MallRy00           1\n",
       "Jay Cutler\\CutlJa00             1\n",
       "Trevone Boykin\\BoykTr00         1\n",
       "Johnny Hekker*+\\HekkJo00        1\n",
       "Carson Palmer\\PalmCa00          1\n",
       "Carson Wentz\\WentCa00           1\n",
       "Dez Bryant*\\BryaDe01            1\n",
       "Case Keenum\\KeenCa00            1\n",
       "Josh McCown\\McCoJo01            1\n",
       "Tom Savage\\SavaTo00             1\n",
       "Jacoby Brissett\\BrisJa00        1\n",
       "Pharoh Cooper\\CoopPh00          1\n",
       "Kirk Cousins*\\CousKi00          1\n",
       "Matt Ryan*+\\RyanMa00            1\n",
       "Scott Tolzien\\TolzSc00          1\n",
       "Nick Foles\\FoleNi00             1\n",
       "Sam Bradford\\BradSa00           1\n",
       "Ryan Fitzpatrick\\FitzRy00       1\n",
       "Derek Anderson\\AndeDe00         1\n",
       "Mark Sanchez\\SancMa00           1\n",
       "Pat McAfee*\\McAfPa44            1\n",
       "Matt Barkley\\BarkMa00           1\n",
       "Marcus Mariota\\MariMa01         1\n",
       "Terrelle Pryor\\PryoTe00         1\n",
       "Matt McGloin\\McGlMa01           1\n",
       "Travis Benjamin\\BenjTr00        1\n",
       "Matt Schaub\\SchaMa00            1\n",
       "Cody Kessler\\KessCo00           1\n",
       "Ben Roethlisberger*\\RoetBe00    1\n",
       "Brett Hundley\\HundBr00          1\n",
       "Landry Jones\\JoneLa02           1\n",
       "Charlie Whitehurst\\WhitCh02     1\n",
       "Brian Hoyer\\HoyeBr00            1\n",
       "Doug Baldwin*\\BaldDo00          1\n",
       "Trevor Siemian\\SiemTr00         1\n",
       "Le'Veon Bell*\\BellLe00          1\n",
       "Jimmy Garoppolo\\GaroJi00        1\n",
       "Matt Cassel\\CassMa00            1\n",
       "Jeremy Maclin\\MaclJe00          1\n",
       "Chase Daniel\\DaniCh00           1\n",
       "Blaine Gabbert\\GabbBl00         1\n",
       "Brock Osweiler\\OsweBr00         1\n",
       "Tony Romo\\RomoTo00              1\n",
       "Cole Beasley\\BeasCo00           1\n",
       "Tom Brady*\\BradTo00             1\n",
       "Russell Wilson\\WilsRu00         1\n",
       "Alex Smith*\\SmitAl03            1\n",
       "Duke Johnson\\JohnDu00           1\n",
       "Andrew Luck\\LuckAn00            1\n",
       "Tress Way\\WayxTr00              1\n",
       "DeMarco Murray*\\MurrDe00        1\n",
       "Ryan Tannehill\\TannRy00         1\n",
       "Shaun Hill\\HillSh00             1\n",
       "Kellen Clemens\\ClemKe00         1\n",
       "Riley Dixon\\DixoRi00            1\n",
       "Cameron Meredith\\MereCa00       1\n",
       "Drew Stanton\\StanDr00           1\n",
       "Jon Ryan\\RyanJo21               1\n",
       "Colin Kaepernick\\KaepCo00       1\n",
       "Sean Mannion\\MannSe00           1\n",
       "Jerick McKinnon\\McKiJe00        1\n",
       "Justin Tucker*+\\TuckJu00        1\n",
       "Mike Glennon\\GlenMi00           1\n",
       "Dontari Poe\\PoexDo00            1\n",
       "Tyrod Taylor\\TaylTy00           1\n",
       "David Fales\\FaleDa00            1\n",
       "Cam Newton\\NewtCa00             1\n",
       "Philip Rivers*\\RivePh00         1\n",
       "Matt Moore\\MoorMa01             1\n",
       "Dak Prescott*\\PresDa01          1\n",
       "Kevin Hogan\\HogaKe00            1\n",
       "Connor Cook\\CookCo00            1\n",
       "Geno Smith\\SmitGe00             1\n",
       "Jameis Winston\\WinsJa00         1\n",
       "Bryce Petty\\PettBr01            1\n",
       "Jarvis Landry*\\LandJa00         1\n",
       "Matthew Stafford\\StafMa00       1\n",
       "Josh Huff\\HuffJo00              1\n",
       "Willie Snead\\SneaWi00           1\n",
       "Tanner McEvoy\\McEvTa01          1\n",
       "Larry Fitzgerald*\\FitzLa00      1\n",
       "Joe Flacco\\FlacJo00             1\n",
       "Name: Player, dtype: int64"
      ]
     },
     "execution_count": 4,
     "metadata": {},
     "output_type": "execute_result"
    }
   ],
   "source": [
    "df['Player'].value_counts()"
   ]
  },
  {
   "cell_type": "markdown",
   "metadata": {},
   "source": [
    "### Assessment 2"
   ]
  },
  {
   "cell_type": "code",
   "execution_count": 5,
   "metadata": {},
   "outputs": [
    {
     "data": {
      "text/plain": [
       "1-0-0     5\n",
       "1-4-0     4\n",
       "1-1-0     4\n",
       "0-1-0     3\n",
       "9-7-0     2\n",
       "7-8-0     2\n",
       "11-5-0    2\n",
       "8-7-0     2\n",
       "7-9-0     2\n",
       "8-6-0     2\n",
       "10-4-0    1\n",
       "0-8-0     1\n",
       "8-5-0     1\n",
       "3-8-0     1\n",
       "0-3-0     1\n",
       "1-10-0    1\n",
       "11-1-0    1\n",
       "5-11-0    1\n",
       "1-3-0     1\n",
       "2-1-0     1\n",
       "4-5-0     1\n",
       "8-7-1     1\n",
       "0-7-0     1\n",
       "1-5-0     1\n",
       "10-5-1    1\n",
       "11-4-0    1\n",
       "6-8-0     1\n",
       "6-9-1     1\n",
       "0-2-0     1\n",
       "8-8-0     1\n",
       "3-13-0    1\n",
       "13-3-0    1\n",
       "6-8-1     1\n",
       "12-3-0    1\n",
       "10-6-0    1\n",
       "2-0-0     1\n",
       "Name: QBrec, dtype: int64"
      ]
     },
     "execution_count": 5,
     "metadata": {},
     "output_type": "execute_result"
    }
   ],
   "source": [
    "df['QBrec'].value_counts()"
   ]
  },
  {
   "cell_type": "markdown",
   "metadata": {},
   "source": [
    "## Clean"
   ]
  },
  {
   "cell_type": "markdown",
   "metadata": {},
   "source": [
    "#### Assessment 1 - Define"
   ]
  },
  {
   "cell_type": "markdown",
   "metadata": {},
   "source": [
    "Here, I will first remove everything after the character \\ from the column 'Player'. Then I will do the same with the * symbol."
   ]
  },
  {
   "cell_type": "markdown",
   "metadata": {},
   "source": [
    "#### Assessment 1 - Code"
   ]
  },
  {
   "cell_type": "code",
   "execution_count": 6,
   "metadata": {},
   "outputs": [],
   "source": [
    "#Remove everything after the character \\ from the column Player. Do the same with the * symbol.\n",
    "df['Player'] = df['Player'].str.split('\\\\', n = 1).str[0]\n",
    "df['Player'] = df['Player'].str.replace('*', '')"
   ]
  },
  {
   "cell_type": "markdown",
   "metadata": {},
   "source": [
    "#### Assessment 1 - Test"
   ]
  },
  {
   "cell_type": "code",
   "execution_count": 7,
   "metadata": {},
   "outputs": [
    {
     "data": {
      "text/plain": [
       "array(['Drew Brees', 'Joe Flacco', 'Blake Bortles', 'Aaron Rodgers',\n",
       "       'Carson Wentz', 'Kirk Cousins', 'Eli Manning', 'Carson Palmer',\n",
       "       'Matthew Stafford', 'Philip Rivers', 'Jameis Winston',\n",
       "       'Andy Dalton', 'Derek Carr', 'Sam Bradford', 'Russell Wilson',\n",
       "       'Andrew Luck', 'Matt Ryan+', 'Cam Newton', 'Brock Osweiler',\n",
       "       'Ben Roethlisberger', 'Alex Smith', 'Trevor Siemian',\n",
       "       'Dak Prescott', 'Marcus Mariota', 'Tyrod Taylor', 'Tom Brady',\n",
       "       'Ryan Fitzpatrick', 'Ryan Tannehill', 'Colin Kaepernick',\n",
       "       'Case Keenum', 'Matt Barkley', 'Jared Goff', 'Brian Hoyer',\n",
       "       'Cody Kessler', 'Josh McCown', 'Blaine Gabbert', 'Robert Griffin',\n",
       "       'Jay Cutler', 'Bryce Petty', 'Matt Moore', 'Landry Jones',\n",
       "       'Paxton Lynch', 'Tom Savage', 'Jimmy Garoppolo', 'Jacoby Brissett',\n",
       "       'Nick Foles', 'Derek Anderson', 'Matt Cassel', 'Drew Stanton',\n",
       "       'Scott Tolzien', 'Shaun Hill', 'Kevin Hogan', 'EJ Manuel',\n",
       "       'Charlie Whitehurst', 'Connor Cook', 'Trevone Boykin',\n",
       "       'Mark Sanchez', 'Matt McGloin', 'Geno Smith', 'Mike Glennon',\n",
       "       'Cardale Jones', 'Brett Hundley', 'Terrelle Pryor', 'Ryan Mallett',\n",
       "       'Sean Mannion', 'David Fales', 'Tony Romo', 'Matt Schaub',\n",
       "       'Johnny Hekker+', 'DeMarco Murray', 'Doug Baldwin', 'Cole Beasley',\n",
       "       \"Le'Veon Bell\", 'Travis Benjamin', 'Dez Bryant', 'Kellen Clemens',\n",
       "       'Pharoh Cooper', 'Chase Daniel', 'Riley Dixon', 'Larry Fitzgerald',\n",
       "       'Josh Huff', 'Duke Johnson', 'Jarvis Landry', 'Marqise Lee',\n",
       "       'Jeremy Maclin', 'Pat McAfee', 'Tanner McEvoy', 'Jerick McKinnon',\n",
       "       'Cameron Meredith', 'Antonio Morrison', 'Dontari Poe', 'Jon Ryan',\n",
       "       'Willie Snead', 'Justin Tucker+', 'Tress Way', 'Jonathan Williams'],\n",
       "      dtype=object)"
      ]
     },
     "execution_count": 7,
     "metadata": {},
     "output_type": "execute_result"
    }
   ],
   "source": [
    "df['Player'].unique()"
   ]
  },
  {
   "cell_type": "markdown",
   "metadata": {},
   "source": [
    "#### Assessment 2 - Define"
   ]
  },
  {
   "cell_type": "markdown",
   "metadata": {},
   "source": [
    "I will put each of the values that the digits represent into their own columns. The columns will be titled QBwin, QBlose, and QBtie. I will then delete the QBrec column."
   ]
  },
  {
   "cell_type": "markdown",
   "metadata": {},
   "source": [
    "#### Assessment 2 - Code"
   ]
  },
  {
   "cell_type": "code",
   "execution_count": 8,
   "metadata": {},
   "outputs": [],
   "source": [
    "# Split the column Qbrec at each occurrence of the - symbol. Put each split into its own column and convert to a numeric datatype.\n",
    "# Delete column Qbrec.\n",
    "QBrec_split = df['QBrec'].str.split('-', n = 2)\n",
    "df['QBwin'] = pd.to_numeric(QBrec_split.str[0])\n",
    "df['QBlose'] = pd.to_numeric(QBrec_split.str[1])\n",
    "df['QBtie'] = pd.to_numeric(QBrec_split.str[2])\n",
    "df.drop('QBrec', axis = 1, inplace = True)"
   ]
  },
  {
   "cell_type": "markdown",
   "metadata": {},
   "source": [
    "#### Assessment 2 - Test"
   ]
  },
  {
   "cell_type": "code",
   "execution_count": 9,
   "metadata": {},
   "outputs": [
    {
     "data": {
      "text/html": [
       "<div>\n",
       "<style scoped>\n",
       "    .dataframe tbody tr th:only-of-type {\n",
       "        vertical-align: middle;\n",
       "    }\n",
       "\n",
       "    .dataframe tbody tr th {\n",
       "        vertical-align: top;\n",
       "    }\n",
       "\n",
       "    .dataframe thead th {\n",
       "        text-align: right;\n",
       "    }\n",
       "</style>\n",
       "<table border=\"1\" class=\"dataframe\">\n",
       "  <thead>\n",
       "    <tr style=\"text-align: right;\">\n",
       "      <th></th>\n",
       "      <th>Rk</th>\n",
       "      <th>Player</th>\n",
       "      <th>Tm</th>\n",
       "      <th>Age</th>\n",
       "      <th>Pos</th>\n",
       "      <th>G</th>\n",
       "      <th>GS</th>\n",
       "      <th>Cmp</th>\n",
       "      <th>Att</th>\n",
       "      <th>Cmp%</th>\n",
       "      <th>Yds</th>\n",
       "      <th>TD</th>\n",
       "      <th>TD%</th>\n",
       "      <th>Int</th>\n",
       "      <th>Int%</th>\n",
       "      <th>Lng</th>\n",
       "      <th>Y/A</th>\n",
       "      <th>AY/A</th>\n",
       "      <th>Y/C</th>\n",
       "      <th>Y/G</th>\n",
       "      <th>Rate</th>\n",
       "      <th>QBR</th>\n",
       "      <th>Sk</th>\n",
       "      <th>Yds.1</th>\n",
       "      <th>NY/A</th>\n",
       "      <th>ANY/A</th>\n",
       "      <th>Sk%</th>\n",
       "      <th>4QC</th>\n",
       "      <th>GWD</th>\n",
       "      <th>QBwin</th>\n",
       "      <th>QBlose</th>\n",
       "      <th>QBtie</th>\n",
       "    </tr>\n",
       "  </thead>\n",
       "  <tbody>\n",
       "    <tr>\n",
       "      <th>0</th>\n",
       "      <td>1</td>\n",
       "      <td>Drew Brees</td>\n",
       "      <td>NOR</td>\n",
       "      <td>37</td>\n",
       "      <td>QB</td>\n",
       "      <td>16</td>\n",
       "      <td>16</td>\n",
       "      <td>471</td>\n",
       "      <td>673</td>\n",
       "      <td>70.0</td>\n",
       "      <td>5208</td>\n",
       "      <td>37</td>\n",
       "      <td>5.5</td>\n",
       "      <td>15</td>\n",
       "      <td>2.2</td>\n",
       "      <td>98</td>\n",
       "      <td>7.7</td>\n",
       "      <td>7.8</td>\n",
       "      <td>11.1</td>\n",
       "      <td>325.5</td>\n",
       "      <td>101.7</td>\n",
       "      <td>65.1</td>\n",
       "      <td>27</td>\n",
       "      <td>184</td>\n",
       "      <td>7.18</td>\n",
       "      <td>7.27</td>\n",
       "      <td>3.9</td>\n",
       "      <td>2.0</td>\n",
       "      <td>4.0</td>\n",
       "      <td>7.0</td>\n",
       "      <td>9.0</td>\n",
       "      <td>0.0</td>\n",
       "    </tr>\n",
       "    <tr>\n",
       "      <th>1</th>\n",
       "      <td>2</td>\n",
       "      <td>Joe Flacco</td>\n",
       "      <td>BAL</td>\n",
       "      <td>31</td>\n",
       "      <td>QB</td>\n",
       "      <td>16</td>\n",
       "      <td>16</td>\n",
       "      <td>436</td>\n",
       "      <td>672</td>\n",
       "      <td>64.9</td>\n",
       "      <td>4317</td>\n",
       "      <td>20</td>\n",
       "      <td>3.0</td>\n",
       "      <td>15</td>\n",
       "      <td>2.2</td>\n",
       "      <td>95</td>\n",
       "      <td>6.4</td>\n",
       "      <td>6.0</td>\n",
       "      <td>9.9</td>\n",
       "      <td>269.8</td>\n",
       "      <td>83.5</td>\n",
       "      <td>52.7</td>\n",
       "      <td>33</td>\n",
       "      <td>243</td>\n",
       "      <td>5.78</td>\n",
       "      <td>5.39</td>\n",
       "      <td>4.7</td>\n",
       "      <td>2.0</td>\n",
       "      <td>2.0</td>\n",
       "      <td>8.0</td>\n",
       "      <td>8.0</td>\n",
       "      <td>0.0</td>\n",
       "    </tr>\n",
       "    <tr>\n",
       "      <th>2</th>\n",
       "      <td>3</td>\n",
       "      <td>Blake Bortles</td>\n",
       "      <td>JAX</td>\n",
       "      <td>24</td>\n",
       "      <td>QB</td>\n",
       "      <td>16</td>\n",
       "      <td>16</td>\n",
       "      <td>368</td>\n",
       "      <td>625</td>\n",
       "      <td>58.9</td>\n",
       "      <td>3905</td>\n",
       "      <td>23</td>\n",
       "      <td>3.7</td>\n",
       "      <td>16</td>\n",
       "      <td>2.6</td>\n",
       "      <td>51</td>\n",
       "      <td>6.2</td>\n",
       "      <td>5.8</td>\n",
       "      <td>10.6</td>\n",
       "      <td>244.1</td>\n",
       "      <td>78.8</td>\n",
       "      <td>42.8</td>\n",
       "      <td>34</td>\n",
       "      <td>197</td>\n",
       "      <td>5.63</td>\n",
       "      <td>5.23</td>\n",
       "      <td>5.2</td>\n",
       "      <td>1.0</td>\n",
       "      <td>1.0</td>\n",
       "      <td>3.0</td>\n",
       "      <td>13.0</td>\n",
       "      <td>0.0</td>\n",
       "    </tr>\n",
       "    <tr>\n",
       "      <th>3</th>\n",
       "      <td>4</td>\n",
       "      <td>Aaron Rodgers</td>\n",
       "      <td>GNB</td>\n",
       "      <td>33</td>\n",
       "      <td>QB</td>\n",
       "      <td>16</td>\n",
       "      <td>16</td>\n",
       "      <td>401</td>\n",
       "      <td>610</td>\n",
       "      <td>65.7</td>\n",
       "      <td>4428</td>\n",
       "      <td>40</td>\n",
       "      <td>6.6</td>\n",
       "      <td>7</td>\n",
       "      <td>1.1</td>\n",
       "      <td>60</td>\n",
       "      <td>7.3</td>\n",
       "      <td>8.1</td>\n",
       "      <td>11.0</td>\n",
       "      <td>276.8</td>\n",
       "      <td>104.2</td>\n",
       "      <td>73.8</td>\n",
       "      <td>35</td>\n",
       "      <td>246</td>\n",
       "      <td>6.48</td>\n",
       "      <td>7.24</td>\n",
       "      <td>5.4</td>\n",
       "      <td>0.0</td>\n",
       "      <td>2.0</td>\n",
       "      <td>10.0</td>\n",
       "      <td>6.0</td>\n",
       "      <td>0.0</td>\n",
       "    </tr>\n",
       "    <tr>\n",
       "      <th>4</th>\n",
       "      <td>5</td>\n",
       "      <td>Carson Wentz</td>\n",
       "      <td>PHI</td>\n",
       "      <td>24</td>\n",
       "      <td>QB</td>\n",
       "      <td>16</td>\n",
       "      <td>16</td>\n",
       "      <td>379</td>\n",
       "      <td>607</td>\n",
       "      <td>62.4</td>\n",
       "      <td>3782</td>\n",
       "      <td>16</td>\n",
       "      <td>2.6</td>\n",
       "      <td>14</td>\n",
       "      <td>2.3</td>\n",
       "      <td>73</td>\n",
       "      <td>6.2</td>\n",
       "      <td>5.7</td>\n",
       "      <td>10.0</td>\n",
       "      <td>236.4</td>\n",
       "      <td>79.3</td>\n",
       "      <td>49.4</td>\n",
       "      <td>33</td>\n",
       "      <td>213</td>\n",
       "      <td>5.58</td>\n",
       "      <td>5.09</td>\n",
       "      <td>5.2</td>\n",
       "      <td>1.0</td>\n",
       "      <td>1.0</td>\n",
       "      <td>7.0</td>\n",
       "      <td>9.0</td>\n",
       "      <td>0.0</td>\n",
       "    </tr>\n",
       "  </tbody>\n",
       "</table>\n",
       "</div>"
      ],
      "text/plain": [
       "   Rk         Player   Tm  Age Pos   G  GS  Cmp  Att  Cmp%   Yds  TD  TD%  \\\n",
       "0   1     Drew Brees  NOR   37  QB  16  16  471  673  70.0  5208  37  5.5   \n",
       "1   2     Joe Flacco  BAL   31  QB  16  16  436  672  64.9  4317  20  3.0   \n",
       "2   3  Blake Bortles  JAX   24  QB  16  16  368  625  58.9  3905  23  3.7   \n",
       "3   4  Aaron Rodgers  GNB   33  QB  16  16  401  610  65.7  4428  40  6.6   \n",
       "4   5   Carson Wentz  PHI   24  QB  16  16  379  607  62.4  3782  16  2.6   \n",
       "\n",
       "   Int  Int%  Lng  Y/A  AY/A   Y/C    Y/G   Rate   QBR  Sk  Yds.1  NY/A  \\\n",
       "0   15   2.2   98  7.7   7.8  11.1  325.5  101.7  65.1  27    184  7.18   \n",
       "1   15   2.2   95  6.4   6.0   9.9  269.8   83.5  52.7  33    243  5.78   \n",
       "2   16   2.6   51  6.2   5.8  10.6  244.1   78.8  42.8  34    197  5.63   \n",
       "3    7   1.1   60  7.3   8.1  11.0  276.8  104.2  73.8  35    246  6.48   \n",
       "4   14   2.3   73  6.2   5.7  10.0  236.4   79.3  49.4  33    213  5.58   \n",
       "\n",
       "   ANY/A  Sk%  4QC  GWD  QBwin  QBlose  QBtie  \n",
       "0   7.27  3.9  2.0  4.0    7.0     9.0    0.0  \n",
       "1   5.39  4.7  2.0  2.0    8.0     8.0    0.0  \n",
       "2   5.23  5.2  1.0  1.0    3.0    13.0    0.0  \n",
       "3   7.24  5.4  0.0  2.0   10.0     6.0    0.0  \n",
       "4   5.09  5.2  1.0  1.0    7.0     9.0    0.0  "
      ]
     },
     "execution_count": 9,
     "metadata": {},
     "output_type": "execute_result"
    }
   ],
   "source": [
    "df.head()"
   ]
  },
  {
   "cell_type": "code",
   "execution_count": 10,
   "metadata": {},
   "outputs": [],
   "source": [
    "# Put cleaned dataframe into master csv file\n",
    "df.to_csv('pass-2016-master.csv', index = False)"
   ]
  }
 ],
 "metadata": {
  "kernelspec": {
   "display_name": "Python 3",
   "language": "python",
   "name": "python3"
  },
  "language_info": {
   "codemirror_mode": {
    "name": "ipython",
    "version": 3
   },
   "file_extension": ".py",
   "mimetype": "text/x-python",
   "name": "python",
   "nbconvert_exporter": "python",
   "pygments_lexer": "ipython3",
   "version": "3.7.6"
  }
 },
 "nbformat": 4,
 "nbformat_minor": 2
}
