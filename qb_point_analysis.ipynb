{
 "cells": [
  {
   "cell_type": "markdown",
   "metadata": {},
   "source": [
    "# QB Point Analysis\n",
    "## by Christopher James\n",
    "\n",
    "## Preliminary Wrangling\n",
    "\n",
    "This dataset contains statistics of NFL quarterbacks (qbs) from the 2016 season. Wrangling on this dataset was done in the notebook 'pass-2016-wrangle.ipynb'. A summary of this can be found in the file 'wrangle_report.pdf'. "
   ]
  },
  {
   "cell_type": "code",
   "execution_count": 1,
   "metadata": {},
   "outputs": [],
   "source": [
    "# import all packages and set plots to be embedded inline\n",
    "import numpy as np\n",
    "import pandas as pd\n",
    "import matplotlib.pyplot as plt\n",
    "import seaborn as sb\n",
    "\n",
    "pd.set_option('display.max_columns', None)\n",
    "pd.set_option('display.max_rows', None)\n",
    "\n",
    "%matplotlib inline"
   ]
  },
  {
   "cell_type": "code",
   "execution_count": 2,
   "metadata": {},
   "outputs": [],
   "source": [
    "# Any needed functions\n",
    "\n",
    "\n",
    "# Function to generate a random sample of df rows.\n",
    "def df_sample(dataframe, samp_size):\n",
    "    samples = np.random.choice(dataframe.shape[0], samp_size, replace = False)\n",
    "    return dataframe.loc[samples,:]"
   ]
  },
  {
   "cell_type": "code",
   "execution_count": 3,
   "metadata": {},
   "outputs": [],
   "source": [
    "# Read 'pass-2016-master.csv' into dataframe called 'df_original', then make copy called 'df' for exploration.\n",
    "df_original = pd.read_csv('pass-2016-master.csv')\n",
    "df = df_original.copy()"
   ]
  },
  {
   "cell_type": "code",
   "execution_count": 4,
   "metadata": {},
   "outputs": [
    {
     "data": {
      "text/plain": [
       "QB       54\n",
       "WR       11\n",
       "P         5\n",
       "RB        4\n",
       "NT        1\n",
       "K         1\n",
       "FB/WR     1\n",
       "MLB       1\n",
       "Name: Pos, dtype: int64"
      ]
     },
     "execution_count": 4,
     "metadata": {},
     "output_type": "execute_result"
    }
   ],
   "source": [
    "df['Pos'].value_counts()"
   ]
  },
  {
   "cell_type": "code",
   "execution_count": 5,
   "metadata": {},
   "outputs": [
    {
     "name": "stdout",
     "output_type": "stream",
     "text": [
      "<class 'pandas.core.frame.DataFrame'>\n",
      "RangeIndex: 96 entries, 0 to 95\n",
      "Data columns (total 32 columns):\n",
      " #   Column  Non-Null Count  Dtype  \n",
      "---  ------  --------------  -----  \n",
      " 0   Rk      96 non-null     int64  \n",
      " 1   Player  96 non-null     object \n",
      " 2   Tm      96 non-null     object \n",
      " 3   Age     96 non-null     int64  \n",
      " 4   Pos     78 non-null     object \n",
      " 5   G       96 non-null     int64  \n",
      " 6   GS      96 non-null     int64  \n",
      " 7   Cmp     96 non-null     int64  \n",
      " 8   Att     96 non-null     int64  \n",
      " 9   Cmp%    96 non-null     float64\n",
      " 10  Yds     96 non-null     int64  \n",
      " 11  TD      96 non-null     int64  \n",
      " 12  TD%     96 non-null     float64\n",
      " 13  Int     96 non-null     int64  \n",
      " 14  Int%    96 non-null     float64\n",
      " 15  Lng     96 non-null     int64  \n",
      " 16  Y/A     96 non-null     float64\n",
      " 17  AY/A    96 non-null     float64\n",
      " 18  Y/C     81 non-null     float64\n",
      " 19  Y/G     96 non-null     float64\n",
      " 20  Rate    96 non-null     float64\n",
      " 21  QBR     88 non-null     float64\n",
      " 22  Sk      96 non-null     int64  \n",
      " 23  Yds.1   96 non-null     int64  \n",
      " 24  NY/A    96 non-null     float64\n",
      " 25  ANY/A   96 non-null     float64\n",
      " 26  Sk%     96 non-null     float64\n",
      " 27  4QC     33 non-null     float64\n",
      " 28  GWD     33 non-null     float64\n",
      " 29  QBwin   54 non-null     float64\n",
      " 30  QBlose  54 non-null     float64\n",
      " 31  QBtie   54 non-null     float64\n",
      "dtypes: float64(17), int64(12), object(3)\n",
      "memory usage: 24.1+ KB\n"
     ]
    }
   ],
   "source": [
    "df.info()"
   ]
  },
  {
   "cell_type": "code",
   "execution_count": 6,
   "metadata": {},
   "outputs": [],
   "source": [
    "# Create column that contains the percentage of all games that ended in a win. \n",
    "df['QBwin%'] = df['QBwin'] / (df['QBwin'] + df['QBlose'] + df['QBtie'])"
   ]
  },
  {
   "cell_type": "code",
   "execution_count": 7,
   "metadata": {},
   "outputs": [],
   "source": [
    "# filter out all players who are not quarterbacks who had less than 100 pass attempts in a season.\n",
    "df = df.query('Pos == \"QB\" & Att > 100')"
   ]
  },
  {
   "cell_type": "code",
   "execution_count": 8,
   "metadata": {},
   "outputs": [
    {
     "data": {
      "text/html": [
       "<div>\n",
       "<style scoped>\n",
       "    .dataframe tbody tr th:only-of-type {\n",
       "        vertical-align: middle;\n",
       "    }\n",
       "\n",
       "    .dataframe tbody tr th {\n",
       "        vertical-align: top;\n",
       "    }\n",
       "\n",
       "    .dataframe thead th {\n",
       "        text-align: right;\n",
       "    }\n",
       "</style>\n",
       "<table border=\"1\" class=\"dataframe\">\n",
       "  <thead>\n",
       "    <tr style=\"text-align: right;\">\n",
       "      <th></th>\n",
       "      <th>Rk</th>\n",
       "      <th>Player</th>\n",
       "      <th>Tm</th>\n",
       "      <th>Age</th>\n",
       "      <th>Pos</th>\n",
       "      <th>G</th>\n",
       "      <th>GS</th>\n",
       "      <th>Cmp</th>\n",
       "      <th>Att</th>\n",
       "      <th>Cmp%</th>\n",
       "      <th>Yds</th>\n",
       "      <th>TD</th>\n",
       "      <th>TD%</th>\n",
       "      <th>Int</th>\n",
       "      <th>Int%</th>\n",
       "      <th>Lng</th>\n",
       "      <th>Y/A</th>\n",
       "      <th>AY/A</th>\n",
       "      <th>Y/C</th>\n",
       "      <th>Y/G</th>\n",
       "      <th>Rate</th>\n",
       "      <th>QBR</th>\n",
       "      <th>Sk</th>\n",
       "      <th>Yds.1</th>\n",
       "      <th>NY/A</th>\n",
       "      <th>ANY/A</th>\n",
       "      <th>Sk%</th>\n",
       "      <th>4QC</th>\n",
       "      <th>GWD</th>\n",
       "      <th>QBwin</th>\n",
       "      <th>QBlose</th>\n",
       "      <th>QBtie</th>\n",
       "      <th>QBwin%</th>\n",
       "    </tr>\n",
       "  </thead>\n",
       "  <tbody>\n",
       "    <tr>\n",
       "      <th>0</th>\n",
       "      <td>1</td>\n",
       "      <td>Drew Brees</td>\n",
       "      <td>NOR</td>\n",
       "      <td>37</td>\n",
       "      <td>QB</td>\n",
       "      <td>16</td>\n",
       "      <td>16</td>\n",
       "      <td>471</td>\n",
       "      <td>673</td>\n",
       "      <td>70.0</td>\n",
       "      <td>5208</td>\n",
       "      <td>37</td>\n",
       "      <td>5.5</td>\n",
       "      <td>15</td>\n",
       "      <td>2.2</td>\n",
       "      <td>98</td>\n",
       "      <td>7.7</td>\n",
       "      <td>7.8</td>\n",
       "      <td>11.1</td>\n",
       "      <td>325.5</td>\n",
       "      <td>101.7</td>\n",
       "      <td>65.1</td>\n",
       "      <td>27</td>\n",
       "      <td>184</td>\n",
       "      <td>7.18</td>\n",
       "      <td>7.27</td>\n",
       "      <td>3.9</td>\n",
       "      <td>2.0</td>\n",
       "      <td>4.0</td>\n",
       "      <td>7.0</td>\n",
       "      <td>9.0</td>\n",
       "      <td>0.0</td>\n",
       "      <td>0.4375</td>\n",
       "    </tr>\n",
       "    <tr>\n",
       "      <th>1</th>\n",
       "      <td>2</td>\n",
       "      <td>Joe Flacco</td>\n",
       "      <td>BAL</td>\n",
       "      <td>31</td>\n",
       "      <td>QB</td>\n",
       "      <td>16</td>\n",
       "      <td>16</td>\n",
       "      <td>436</td>\n",
       "      <td>672</td>\n",
       "      <td>64.9</td>\n",
       "      <td>4317</td>\n",
       "      <td>20</td>\n",
       "      <td>3.0</td>\n",
       "      <td>15</td>\n",
       "      <td>2.2</td>\n",
       "      <td>95</td>\n",
       "      <td>6.4</td>\n",
       "      <td>6.0</td>\n",
       "      <td>9.9</td>\n",
       "      <td>269.8</td>\n",
       "      <td>83.5</td>\n",
       "      <td>52.7</td>\n",
       "      <td>33</td>\n",
       "      <td>243</td>\n",
       "      <td>5.78</td>\n",
       "      <td>5.39</td>\n",
       "      <td>4.7</td>\n",
       "      <td>2.0</td>\n",
       "      <td>2.0</td>\n",
       "      <td>8.0</td>\n",
       "      <td>8.0</td>\n",
       "      <td>0.0</td>\n",
       "      <td>0.5000</td>\n",
       "    </tr>\n",
       "    <tr>\n",
       "      <th>2</th>\n",
       "      <td>3</td>\n",
       "      <td>Blake Bortles</td>\n",
       "      <td>JAX</td>\n",
       "      <td>24</td>\n",
       "      <td>QB</td>\n",
       "      <td>16</td>\n",
       "      <td>16</td>\n",
       "      <td>368</td>\n",
       "      <td>625</td>\n",
       "      <td>58.9</td>\n",
       "      <td>3905</td>\n",
       "      <td>23</td>\n",
       "      <td>3.7</td>\n",
       "      <td>16</td>\n",
       "      <td>2.6</td>\n",
       "      <td>51</td>\n",
       "      <td>6.2</td>\n",
       "      <td>5.8</td>\n",
       "      <td>10.6</td>\n",
       "      <td>244.1</td>\n",
       "      <td>78.8</td>\n",
       "      <td>42.8</td>\n",
       "      <td>34</td>\n",
       "      <td>197</td>\n",
       "      <td>5.63</td>\n",
       "      <td>5.23</td>\n",
       "      <td>5.2</td>\n",
       "      <td>1.0</td>\n",
       "      <td>1.0</td>\n",
       "      <td>3.0</td>\n",
       "      <td>13.0</td>\n",
       "      <td>0.0</td>\n",
       "      <td>0.1875</td>\n",
       "    </tr>\n",
       "    <tr>\n",
       "      <th>3</th>\n",
       "      <td>4</td>\n",
       "      <td>Aaron Rodgers</td>\n",
       "      <td>GNB</td>\n",
       "      <td>33</td>\n",
       "      <td>QB</td>\n",
       "      <td>16</td>\n",
       "      <td>16</td>\n",
       "      <td>401</td>\n",
       "      <td>610</td>\n",
       "      <td>65.7</td>\n",
       "      <td>4428</td>\n",
       "      <td>40</td>\n",
       "      <td>6.6</td>\n",
       "      <td>7</td>\n",
       "      <td>1.1</td>\n",
       "      <td>60</td>\n",
       "      <td>7.3</td>\n",
       "      <td>8.1</td>\n",
       "      <td>11.0</td>\n",
       "      <td>276.8</td>\n",
       "      <td>104.2</td>\n",
       "      <td>73.8</td>\n",
       "      <td>35</td>\n",
       "      <td>246</td>\n",
       "      <td>6.48</td>\n",
       "      <td>7.24</td>\n",
       "      <td>5.4</td>\n",
       "      <td>0.0</td>\n",
       "      <td>2.0</td>\n",
       "      <td>10.0</td>\n",
       "      <td>6.0</td>\n",
       "      <td>0.0</td>\n",
       "      <td>0.6250</td>\n",
       "    </tr>\n",
       "    <tr>\n",
       "      <th>4</th>\n",
       "      <td>5</td>\n",
       "      <td>Carson Wentz</td>\n",
       "      <td>PHI</td>\n",
       "      <td>24</td>\n",
       "      <td>QB</td>\n",
       "      <td>16</td>\n",
       "      <td>16</td>\n",
       "      <td>379</td>\n",
       "      <td>607</td>\n",
       "      <td>62.4</td>\n",
       "      <td>3782</td>\n",
       "      <td>16</td>\n",
       "      <td>2.6</td>\n",
       "      <td>14</td>\n",
       "      <td>2.3</td>\n",
       "      <td>73</td>\n",
       "      <td>6.2</td>\n",
       "      <td>5.7</td>\n",
       "      <td>10.0</td>\n",
       "      <td>236.4</td>\n",
       "      <td>79.3</td>\n",
       "      <td>49.4</td>\n",
       "      <td>33</td>\n",
       "      <td>213</td>\n",
       "      <td>5.58</td>\n",
       "      <td>5.09</td>\n",
       "      <td>5.2</td>\n",
       "      <td>1.0</td>\n",
       "      <td>1.0</td>\n",
       "      <td>7.0</td>\n",
       "      <td>9.0</td>\n",
       "      <td>0.0</td>\n",
       "      <td>0.4375</td>\n",
       "    </tr>\n",
       "  </tbody>\n",
       "</table>\n",
       "</div>"
      ],
      "text/plain": [
       "   Rk         Player   Tm  Age Pos   G  GS  Cmp  Att  Cmp%   Yds  TD  TD%  \\\n",
       "0   1     Drew Brees  NOR   37  QB  16  16  471  673  70.0  5208  37  5.5   \n",
       "1   2     Joe Flacco  BAL   31  QB  16  16  436  672  64.9  4317  20  3.0   \n",
       "2   3  Blake Bortles  JAX   24  QB  16  16  368  625  58.9  3905  23  3.7   \n",
       "3   4  Aaron Rodgers  GNB   33  QB  16  16  401  610  65.7  4428  40  6.6   \n",
       "4   5   Carson Wentz  PHI   24  QB  16  16  379  607  62.4  3782  16  2.6   \n",
       "\n",
       "   Int  Int%  Lng  Y/A  AY/A   Y/C    Y/G   Rate   QBR  Sk  Yds.1  NY/A  \\\n",
       "0   15   2.2   98  7.7   7.8  11.1  325.5  101.7  65.1  27    184  7.18   \n",
       "1   15   2.2   95  6.4   6.0   9.9  269.8   83.5  52.7  33    243  5.78   \n",
       "2   16   2.6   51  6.2   5.8  10.6  244.1   78.8  42.8  34    197  5.63   \n",
       "3    7   1.1   60  7.3   8.1  11.0  276.8  104.2  73.8  35    246  6.48   \n",
       "4   14   2.3   73  6.2   5.7  10.0  236.4   79.3  49.4  33    213  5.58   \n",
       "\n",
       "   ANY/A  Sk%  4QC  GWD  QBwin  QBlose  QBtie  QBwin%  \n",
       "0   7.27  3.9  2.0  4.0    7.0     9.0    0.0  0.4375  \n",
       "1   5.39  4.7  2.0  2.0    8.0     8.0    0.0  0.5000  \n",
       "2   5.23  5.2  1.0  1.0    3.0    13.0    0.0  0.1875  \n",
       "3   7.24  5.4  0.0  2.0   10.0     6.0    0.0  0.6250  \n",
       "4   5.09  5.2  1.0  1.0    7.0     9.0    0.0  0.4375  "
      ]
     },
     "execution_count": 8,
     "metadata": {},
     "output_type": "execute_result"
    }
   ],
   "source": [
    "df.head()"
   ]
  },
  {
   "cell_type": "code",
   "execution_count": 9,
   "metadata": {},
   "outputs": [
    {
     "data": {
      "text/plain": [
       "Rk       -0.383626\n",
       "Age       0.326116\n",
       "G         0.504449\n",
       "GS        0.520878\n",
       "Cmp       0.509690\n",
       "Att       0.476504\n",
       "Cmp%      0.446663\n",
       "Yds       0.616831\n",
       "TD        0.863558\n",
       "TD%       1.000000\n",
       "Int       0.108271\n",
       "Int%     -0.304491\n",
       "Lng       0.187266\n",
       "Y/A       0.718339\n",
       "AY/A      0.770051\n",
       "Y/C       0.517496\n",
       "Y/G       0.657907\n",
       "Rate      0.758195\n",
       "QBR       0.738103\n",
       "Sk        0.228052\n",
       "Yds.1     0.202902\n",
       "NY/A      0.726855\n",
       "ANY/A     0.778069\n",
       "Sk%      -0.400363\n",
       "4QC      -0.039211\n",
       "GWD       0.117480\n",
       "QBwin     0.591395\n",
       "QBlose   -0.016240\n",
       "QBtie    -0.049153\n",
       "QBwin%    0.554298\n",
       "Name: TD%, dtype: float64"
      ]
     },
     "execution_count": 9,
     "metadata": {},
     "output_type": "execute_result"
    }
   ],
   "source": [
    "df.corr()['TD%']"
   ]
  },
  {
   "cell_type": "markdown",
   "metadata": {},
   "source": [
    "### What is the structure of your dataset?\n",
    "\n",
    "This dataset contains 96 rows and 32 columns. There are 3 catagorical columns, while the rest are numerical. Those columns are 'Rk', 'Player', 'Tm', 'Age', 'Pos', 'G', 'GS', 'Cmp', 'Att', 'Cmp%', 'Yds', 'TD', 'TD%', 'Int', 'Int%', 'Lng', 'Y/A', 'AY/A', 'Y/C', 'Y/G', 'Rate', 'QBR', 'Sk', 'Yds.1', 'NY/A', 'ANY/A', 'Sk%', '4QC', 'GWD', 'QBwin', 'QBlose', and 'QBtie'.\n",
    "\n",
    "### What is/are the main feature(s) of interest in your dataset?\n",
    "\n",
    "I am looking to discover what features lead to a higher touchdown per pass attempt ratio (TD%).\n",
    "\n",
    "### What features in the dataset do you think will help support your investigation into your feature(s) of interest?\n",
    "\n",
    "I believe based on the coorelation numbers shown above, completion percentage (Cmp%), yards per attempt (Y/A), yards per catch (Y/C), yards per game (Y/G),  quarterback rating (QBR) and QB win percentage (QBwin%) will have an effect on this number. "
   ]
  },
  {
   "cell_type": "markdown",
   "metadata": {},
   "source": [
    "## Univariate Exploration"
   ]
  },
  {
   "cell_type": "markdown",
   "metadata": {},
   "source": [
    "### Distribution of Completion Percentage"
   ]
  },
  {
   "cell_type": "code",
   "execution_count": 10,
   "metadata": {},
   "outputs": [
    {
     "data": {
      "text/plain": [
       "count    39.0\n",
       "mean     62.4\n",
       "std       4.6\n",
       "min      52.9\n",
       "25%      59.2\n",
       "50%      62.4\n",
       "75%      65.6\n",
       "max      71.6\n",
       "Name: Cmp%, dtype: float64"
      ]
     },
     "execution_count": 10,
     "metadata": {},
     "output_type": "execute_result"
    }
   ],
   "source": [
    "cmp = df['Cmp%'].describe().round(0)\n",
    "cmp"
   ]
  },
  {
   "cell_type": "code",
   "execution_count": 11,
   "metadata": {},
   "outputs": [
    {
     "data": {
      "image/png": "[encoded data removed]",
      "text/plain": [
       "<Figure size 432x288 with 1 Axes>"
      ]
     },
     "metadata": {
      "needs_background": "light"
     },
     "output_type": "display_data"
    }
   ],
   "source": [
    "#Distribution of completion percentage\n",
    "bins = np.arange(cmp['min'], cmp['max'] + 1, 1)\n",
    "ticks = bins\n",
    "labels = [\"{}\".format(val) for val in ticks]\n",
    "\n",
    "plt.hist(data = df, x = 'Cmp%', bins = bins)\n",
    "plt.xlabel('Distribution of Completion Percentage')\n",
    "plt.xticks(ticks, labels, rotation = 90);"
   ]
  },
  {
   "cell_type": "markdown",
   "metadata": {},
   "source": [
    "The distribution of completion percentage ranges from 53% to 72%. A majority of the players tend to fall to the center of the distribution."
   ]
  },
  {
   "cell_type": "markdown",
   "metadata": {},
   "source": [
    "### Distribution of Average Yards per Attempt"
   ]
  },
  {
   "cell_type": "code",
   "execution_count": 16,
   "metadata": {},
   "outputs": [
    {
     "data": {
      "text/plain": [
       "count    39.0\n",
       "mean      7.0\n",
       "std       1.0\n",
       "min       5.0\n",
       "25%       7.0\n",
       "50%       7.0\n",
       "75%       8.0\n",
       "max       9.0\n",
       "Name: Y/A, dtype: float64"
      ]
     },
     "execution_count": 16,
     "metadata": {},
     "output_type": "execute_result"
    }
   ],
   "source": [
    "ypa = df['Y/A'].describe().round(0)\n",
    "ypa"
   ]
  },
  {
   "cell_type": "code",
   "execution_count": 17,
   "metadata": {},
   "outputs": [
    {
     "data": {
      "image/png": "[encoded data removed]",
      "text/plain": [
       "<Figure size 432x288 with 1 Axes>"
      ]
     },
     "metadata": {
      "needs_background": "light"
     },
     "output_type": "display_data"
    }
   ],
   "source": [
    "# Distribution of Average Yards per Attempt\n",
    "bins = np.arange(ypa['min'], ypa['max'] + 1, 0.25)\n",
    "ticks = bins\n",
    "labels = [\"{}\".format(val) for val in ticks]\n",
    "\n",
    "plt.hist(data = df, x = 'Y/A', bins = bins)\n",
    "plt.xlabel('Distribution of Average Yards per Attempt')\n",
    "plt.xticks(ticks, labels, rotation = 90);"
   ]
  },
  {
   "cell_type": "markdown",
   "metadata": {},
   "source": [
    "The distribution of average yards per attempt ranges from 5.25 to 9.25, with the majority of the players falling to the center of the distribution. Almost half of all players are in the 7.0 and 7.5 bins."
   ]
  },
  {
   "cell_type": "markdown",
   "metadata": {},
   "source": [
    "### Distribution of Average Yards per Catch"
   ]
  },
  {
   "cell_type": "code",
   "execution_count": 19,
   "metadata": {},
   "outputs": [
    {
     "data": {
      "text/plain": [
       "count    39.0\n",
       "mean     11.0\n",
       "std       1.0\n",
       "min      10.0\n",
       "25%      11.0\n",
       "50%      11.0\n",
       "75%      12.0\n",
       "max      13.0\n",
       "Name: Y/C, dtype: float64"
      ]
     },
     "execution_count": 19,
     "metadata": {},
     "output_type": "execute_result"
    }
   ],
   "source": [
    "ypc = df['Y/C'].describe().round(0)\n",
    "ypc"
   ]
  },
  {
   "cell_type": "code",
   "execution_count": 21,
   "metadata": {},
   "outputs": [
    {
     "data": {
      "image/png": "[encoded data removed]",
      "text/plain": [
       "<Figure size 432x288 with 1 Axes>"
      ]
     },
     "metadata": {
      "needs_background": "light"
     },
     "output_type": "display_data"
    }
   ],
   "source": [
    "#Distribution of Average Yards per Catch\n",
    "bins = np.arange(ypc['min'], ypc['max'] + 1, 0.25)\n",
    "ticks = bins\n",
    "labels = [\"{}\".format(val) for val in ticks]\n",
    "\n",
    "plt.hist(data = df, x = 'Y/C', bins = bins)\n",
    "plt.xlabel('Distribution of Average Yards per Catch')\n",
    "plt.xticks(ticks, labels, rotation = 90);"
   ]
  },
  {
   "cell_type": "markdown",
   "metadata": {},
   "source": [
    "The distribution of average yards per catch ranges from 10 to 13.25. The majority of players range from 10.5 to 12.25."
   ]
  },
  {
   "cell_type": "markdown",
   "metadata": {},
   "source": [
    "### Discuss the distribution(s) of your variable(s) of interest. Were there any unusual points? Did you need to perform any transformations?\n",
    "\n",
    "> Your answer here!\n",
    "\n",
    "### Of the features you investigated, were there any unusual distributions? Did you perform any operations on the data to tidy, adjust, or change the form of the data? If so, why did you do this?\n",
    "\n",
    "> Your answer here!"
   ]
  },
  {
   "cell_type": "markdown",
   "metadata": {},
   "source": [
    "## Bivariate Exploration\n",
    "\n",
    "> In this section, investigate relationships between pairs of variables in your\n",
    "data. Make sure the variables that you cover here have been introduced in some\n",
    "fashion in the previous section (univariate exploration)."
   ]
  },
  {
   "cell_type": "code",
   "execution_count": null,
   "metadata": {},
   "outputs": [],
   "source": []
  },
  {
   "cell_type": "markdown",
   "metadata": {},
   "source": [
    "### Talk about some of the relationships you observed in this part of the investigation. How did the feature(s) of interest vary with other features in the dataset?\n",
    "\n",
    "> Your answer here!\n",
    "\n",
    "### Did you observe any interesting relationships between the other features (not the main feature(s) of interest)?\n",
    "\n",
    "> Your answer here!"
   ]
  },
  {
   "cell_type": "markdown",
   "metadata": {},
   "source": [
    "## Multivariate Exploration\n",
    "\n",
    "> Create plots of three or more variables to investigate your data even\n",
    "further. Make sure that your investigations are justified, and follow from\n",
    "your work in the previous sections."
   ]
  },
  {
   "cell_type": "code",
   "execution_count": null,
   "metadata": {},
   "outputs": [],
   "source": []
  },
  {
   "cell_type": "markdown",
   "metadata": {},
   "source": [
    "### Talk about some of the relationships you observed in this part of the investigation. Were there features that strengthened each other in terms of looking at your feature(s) of interest?\n",
    "\n",
    "> Your answer here!\n",
    "\n",
    "### Were there any interesting or surprising interactions between features?\n",
    "\n",
    "> Your answer here!"
   ]
  },
  {
   "cell_type": "markdown",
   "metadata": {},
   "source": [
    "> At the end of your report, make sure that you export the notebook as an\n",
    "html file from the `File > Download as... > HTML` menu. Make sure you keep\n",
    "track of where the exported file goes, so you can put it in the same folder\n",
    "as this notebook for project submission. Also, make sure you remove all of\n",
    "the quote-formatted guide notes like this one before you finish your report!"
   ]
  },
  {
   "cell_type": "code",
   "execution_count": null,
   "metadata": {},
   "outputs": [],
   "source": []
  }
 ],
 "metadata": {
  "kernelspec": {
   "display_name": "Python 3",
   "language": "python",
   "name": "python3"
  },
  "language_info": {
   "codemirror_mode": {
    "name": "ipython",
    "version": 3
   },
   "file_extension": ".py",
   "mimetype": "text/x-python",
   "name": "python",
   "nbconvert_exporter": "python",
   "pygments_lexer": "ipython3",
   "version": "3.7.6"
  }
 },
 "nbformat": 4,
 "nbformat_minor": 2
}
