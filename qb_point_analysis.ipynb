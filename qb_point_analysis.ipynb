{
 "cells": [
  {
   "cell_type": "markdown",
   "metadata": {},
   "source": [
    "# QB Point Analysis\n",
    "## by Christopher James\n",
    "\n",
    "## Preliminary Wrangling\n",
    "\n",
    "This dataset contains statistics of NFL quarterbacks (qbs) from the 2016 season. It also contains statistics on rushing during the same games. Wrangling on these datasets were done in the notebooks 'pass-2016-wrangle.ipynb' and 'run-2016-wrangle.ipynb'. A summary of this can be found in the file 'wrangle_report.pdf'. "
   ]
  },
  {
   "cell_type": "code",
   "execution_count": 1,
   "metadata": {},
   "outputs": [],
   "source": [
    "# import all packages and set plots to be embedded inline\n",
    "import numpy as np\n",
    "import pandas as pd\n",
    "import matplotlib.pyplot as plt\n",
    "import seaborn as sb\n",
    "\n",
    "pd.set_option('display.max_columns', None)\n",
    "pd.set_option('display.max_rows', None)\n",
    "\n",
    "%matplotlib inline"
   ]
  },
  {
   "cell_type": "code",
   "execution_count": 2,
   "metadata": {},
   "outputs": [],
   "source": [
    "# Any needed functions\n",
    "\n",
    "\n",
    "# Function to generate a random sample of df rows.\n",
    "def df_sample(dataframe, samp_size):\n",
    "    samples = np.random.choice(dataframe.shape[0], samp_size, replace = False)\n",
    "    return dataframe.loc[samples,:]"
   ]
  },
  {
   "cell_type": "code",
   "execution_count": 3,
   "metadata": {},
   "outputs": [],
   "source": [
    "# Read 'pass-2016-master.csv' into dataframe called 'df_original', then make copy called 'df' for exploration.\n",
    "# Read 'Career_Stats_Rushing_master.csv' into df called df_run_original. create copy called df_run\n",
    "df_original = pd.read_csv('pass-2016-master.csv')\n",
    "df = df_original.copy()\n",
    "\n",
    "df_run_original = pd.read_csv('Career_Stats_Rushing_master.csv')\n",
    "df_run = df_run_original.copy()"
   ]
  },
  {
   "cell_type": "code",
   "execution_count": 4,
   "metadata": {},
   "outputs": [
    {
     "name": "stdout",
     "output_type": "stream",
     "text": [
      "<class 'pandas.core.frame.DataFrame'>\n",
      "RangeIndex: 96 entries, 0 to 95\n",
      "Data columns (total 32 columns):\n",
      " #   Column  Non-Null Count  Dtype  \n",
      "---  ------  --------------  -----  \n",
      " 0   Rk      96 non-null     int64  \n",
      " 1   Player  96 non-null     object \n",
      " 2   Tm      96 non-null     object \n",
      " 3   Age     96 non-null     int64  \n",
      " 4   Pos     78 non-null     object \n",
      " 5   G       96 non-null     int64  \n",
      " 6   GS      96 non-null     int64  \n",
      " 7   Cmp     96 non-null     int64  \n",
      " 8   Att     96 non-null     int64  \n",
      " 9   Cmp%    96 non-null     float64\n",
      " 10  Yds     96 non-null     int64  \n",
      " 11  TD      96 non-null     int64  \n",
      " 12  TD%     96 non-null     float64\n",
      " 13  Int     96 non-null     int64  \n",
      " 14  Int%    96 non-null     float64\n",
      " 15  Lng     96 non-null     int64  \n",
      " 16  Y/A     96 non-null     float64\n",
      " 17  AY/A    96 non-null     float64\n",
      " 18  Y/C     81 non-null     float64\n",
      " 19  Y/G     96 non-null     float64\n",
      " 20  Rate    96 non-null     float64\n",
      " 21  QBR     88 non-null     float64\n",
      " 22  Sk      96 non-null     int64  \n",
      " 23  Yds.1   96 non-null     int64  \n",
      " 24  NY/A    96 non-null     float64\n",
      " 25  ANY/A   96 non-null     float64\n",
      " 26  Sk%     96 non-null     float64\n",
      " 27  4QC     33 non-null     float64\n",
      " 28  GWD     33 non-null     float64\n",
      " 29  QBwin   54 non-null     float64\n",
      " 30  QBlose  54 non-null     float64\n",
      " 31  QBtie   54 non-null     float64\n",
      "dtypes: float64(17), int64(12), object(3)\n",
      "memory usage: 24.1+ KB\n"
     ]
    }
   ],
   "source": [
    "df.info()"
   ]
  },
  {
   "cell_type": "code",
   "execution_count": 5,
   "metadata": {},
   "outputs": [
    {
     "name": "stdout",
     "output_type": "stream",
     "text": [
      "<class 'pandas.core.frame.DataFrame'>\n",
      "RangeIndex: 17506 entries, 0 to 17505\n",
      "Data columns (total 18 columns):\n",
      " #   Column                             Non-Null Count  Dtype  \n",
      "---  ------                             --------------  -----  \n",
      " 0   Player_Id                          17506 non-null  object \n",
      " 1   Name                               17506 non-null  object \n",
      " 2   Position                           2319 non-null   object \n",
      " 3   Year                               17506 non-null  int64  \n",
      " 4   Team                               17506 non-null  object \n",
      " 5   Games_Played                       17506 non-null  int64  \n",
      " 6   Rushing_Attempts                   11456 non-null  float64\n",
      " 7   Rushing_Attempts_Per_Game          17506 non-null  float64\n",
      " 8   Rushing_Yards                      11069 non-null  float64\n",
      " 9   Yards_Per_Carry                    11375 non-null  float64\n",
      " 10  Rushing_Yards_Per_Game             11444 non-null  float64\n",
      " 11  Rushing_TDs                        11456 non-null  float64\n",
      " 12  Longest_Rushing_Run                6724 non-null   float64\n",
      " 13  Rushing_First_Downs                4874 non-null   float64\n",
      " 14  Percentage_of_Rushing_First_Downs  4850 non-null   float64\n",
      " 15  Rushing_More_Than_20_Yards         4874 non-null   float64\n",
      " 16  Rushing_More_Than_40_Yards         4874 non-null   float64\n",
      " 17  Fumbles                            4874 non-null   float64\n",
      "dtypes: float64(12), int64(2), object(4)\n",
      "memory usage: 2.4+ MB\n"
     ]
    }
   ],
   "source": [
    "df_run.info()"
   ]
  },
  {
   "cell_type": "code",
   "execution_count": 6,
   "metadata": {},
   "outputs": [],
   "source": [
    "# filter out all players who are not quarterbacks who had less than 100 pass attempts in a season.\n",
    "df = df.query('Pos == \"QB\" & Att > 100')"
   ]
  },
  {
   "cell_type": "code",
   "execution_count": 7,
   "metadata": {},
   "outputs": [],
   "source": [
    "# Create column that contains the percentage of all games that ended in a win. \n",
    "df['QBwin%'] = ((df['QBwin'] / (df['QBwin'] + df['QBlose'] + df['QBtie'])) * 100).round(3)"
   ]
  },
  {
   "cell_type": "code",
   "execution_count": 8,
   "metadata": {},
   "outputs": [
    {
     "name": "stdout",
     "output_type": "stream",
     "text": [
      "<class 'pandas.core.frame.DataFrame'>\n",
      "Int64Index: 449 entries, 72 to 17492\n",
      "Data columns (total 17 columns):\n",
      " #   Column                             Non-Null Count  Dtype  \n",
      "---  ------                             --------------  -----  \n",
      " 0   Player_Id                          449 non-null    object \n",
      " 1   Name                               449 non-null    object \n",
      " 2   Position                           447 non-null    object \n",
      " 3   Team                               449 non-null    object \n",
      " 4   Games_Played                       449 non-null    int64  \n",
      " 5   Rushing_Attempts                   322 non-null    float64\n",
      " 6   Rushing_Attempts_Per_Game          449 non-null    float64\n",
      " 7   Rushing_Yards                      310 non-null    float64\n",
      " 8   Yards_Per_Carry                    322 non-null    float64\n",
      " 9   Rushing_Yards_Per_Game             322 non-null    float64\n",
      " 10  Rushing_TDs                        322 non-null    float64\n",
      " 11  Longest_Rushing_Run                281 non-null    float64\n",
      " 12  Rushing_First_Downs                322 non-null    float64\n",
      " 13  Percentage_of_Rushing_First_Downs  322 non-null    float64\n",
      " 14  Rushing_More_Than_20_Yards         322 non-null    float64\n",
      " 15  Rushing_More_Than_40_Yards         322 non-null    float64\n",
      " 16  Fumbles                            322 non-null    float64\n",
      "dtypes: float64(12), int64(1), object(4)\n",
      "memory usage: 63.1+ KB\n"
     ]
    }
   ],
   "source": [
    "# filter out all games in df_run that did not take place in the 2016 season. Remove year column\n",
    "df_run = df_run.query('Year == 2016')\n",
    "df_run.drop(columns = 'Year', inplace = True)\n",
    "df_run.info()"
   ]
  },
  {
   "cell_type": "code",
   "execution_count": 9,
   "metadata": {},
   "outputs": [],
   "source": [
    "# Make dictionary of team names and the symbols I intend to change them to.\n",
    "team_change = {'Arizona Cardinals' : 'ARI', 'Atlanta Falcons' : 'ATL', 'Baltimore Ravens' : 'BAL', 'Buffalo Bills' : 'BUF',\n",
    "              'Carolina Panthers' : 'CAR', 'Chicago Bears' : 'CHI', 'Cincinnati Bengals' : 'CIN', 'Cleveland Browns' : 'CLE',\n",
    "              'Dallas Cowboys' : 'DAL', 'Denver Broncos' : 'DEN', 'Detroit Lions' : 'DET', 'Green Bay Packers' : 'GNB',\n",
    "              'Houston Texans' : 'HOU', 'Indianapolis Colts' : 'IND', 'Jacksonville Jaguars': 'JAX', \n",
    "               'Kansas City Chiefs' : 'KAN', 'Los Angeles Rams' : 'LAR', 'Miami Dolphins' : 'MIA', 'Minnesota Vikings' : 'MIN',\n",
    "              'New England Patriots' : 'NWE', 'New Orleans Saints' : 'NOR', 'New York Giants' : 'NYG', 'New York Jets' : 'NYJ',\n",
    "              'Oakland Raiders' : 'OAK', 'Philadelphia Eagles' : 'PHI', 'Pittsburgh Steelers' : 'PIT', \n",
    "               'San Diego Chargers' : 'SDG', 'San Francisco 49ers' : 'SFO', 'Seattle Seahawks' : 'SEA', \n",
    "               'Tampa Bay Buccaneers' : 'TAM', 'Tennessee Titans' : 'TEN', 'Washington Redskins' : 'WAS'}"
   ]
  },
  {
   "cell_type": "code",
   "execution_count": 10,
   "metadata": {},
   "outputs": [],
   "source": [
    "# Replace team names in df_run to match those in df for merging purposes.\n",
    "df_run['Team'].replace(team_change, inplace = True)"
   ]
  },
  {
   "cell_type": "code",
   "execution_count": 11,
   "metadata": {},
   "outputs": [
    {
     "data": {
      "text/html": [
       "<div>\n",
       "<style scoped>\n",
       "    .dataframe tbody tr th:only-of-type {\n",
       "        vertical-align: middle;\n",
       "    }\n",
       "\n",
       "    .dataframe tbody tr th {\n",
       "        vertical-align: top;\n",
       "    }\n",
       "\n",
       "    .dataframe thead th {\n",
       "        text-align: right;\n",
       "    }\n",
       "</style>\n",
       "<table border=\"1\" class=\"dataframe\">\n",
       "  <thead>\n",
       "    <tr style=\"text-align: right;\">\n",
       "      <th></th>\n",
       "      <th>Games_Played</th>\n",
       "      <th>Rushing_Attempts</th>\n",
       "      <th>Rushing_Attempts_Per_Game</th>\n",
       "      <th>Rushing_Yards</th>\n",
       "      <th>Yards_Per_Carry</th>\n",
       "      <th>Rushing_Yards_Per_Game</th>\n",
       "      <th>Rushing_TDs</th>\n",
       "      <th>Longest_Rushing_Run</th>\n",
       "      <th>Rushing_First_Downs</th>\n",
       "      <th>Percentage_of_Rushing_First_Downs</th>\n",
       "      <th>Rushing_More_Than_20_Yards</th>\n",
       "      <th>Rushing_More_Than_40_Yards</th>\n",
       "      <th>Fumbles</th>\n",
       "    </tr>\n",
       "    <tr>\n",
       "      <th>Team</th>\n",
       "      <th></th>\n",
       "      <th></th>\n",
       "      <th></th>\n",
       "      <th></th>\n",
       "      <th></th>\n",
       "      <th></th>\n",
       "      <th></th>\n",
       "      <th></th>\n",
       "      <th></th>\n",
       "      <th></th>\n",
       "      <th></th>\n",
       "      <th></th>\n",
       "      <th></th>\n",
       "    </tr>\n",
       "  </thead>\n",
       "  <tbody>\n",
       "    <tr>\n",
       "      <th>ARI</th>\n",
       "      <td>158</td>\n",
       "      <td>398.0</td>\n",
       "      <td>30.7</td>\n",
       "      <td>493.0</td>\n",
       "      <td>57.5</td>\n",
       "      <td>132.1</td>\n",
       "      <td>20.0</td>\n",
       "      <td>72.0</td>\n",
       "      <td>97.0</td>\n",
       "      <td>322.2</td>\n",
       "      <td>10.0</td>\n",
       "      <td>4.0</td>\n",
       "      <td>10.0</td>\n",
       "    </tr>\n",
       "    <tr>\n",
       "      <th>ATL</th>\n",
       "      <td>144</td>\n",
       "      <td>416.0</td>\n",
       "      <td>32.1</td>\n",
       "      <td>844.0</td>\n",
       "      <td>35.2</td>\n",
       "      <td>149.1</td>\n",
       "      <td>20.0</td>\n",
       "      <td>95.0</td>\n",
       "      <td>107.0</td>\n",
       "      <td>178.7</td>\n",
       "      <td>15.0</td>\n",
       "      <td>4.0</td>\n",
       "      <td>3.0</td>\n",
       "    </tr>\n",
       "    <tr>\n",
       "      <th>BAL</th>\n",
       "      <td>202</td>\n",
       "      <td>367.0</td>\n",
       "      <td>35.6</td>\n",
       "      <td>1463.0</td>\n",
       "      <td>48.3</td>\n",
       "      <td>146.5</td>\n",
       "      <td>10.0</td>\n",
       "      <td>158.0</td>\n",
       "      <td>79.0</td>\n",
       "      <td>319.2</td>\n",
       "      <td>8.0</td>\n",
       "      <td>1.0</td>\n",
       "      <td>4.0</td>\n",
       "    </tr>\n",
       "    <tr>\n",
       "      <th>BUF</th>\n",
       "      <td>177</td>\n",
       "      <td>492.0</td>\n",
       "      <td>35.7</td>\n",
       "      <td>1363.0</td>\n",
       "      <td>72.8</td>\n",
       "      <td>183.8</td>\n",
       "      <td>29.0</td>\n",
       "      <td>150.0</td>\n",
       "      <td>146.0</td>\n",
       "      <td>600.3</td>\n",
       "      <td>27.0</td>\n",
       "      <td>5.0</td>\n",
       "      <td>11.0</td>\n",
       "    </tr>\n",
       "    <tr>\n",
       "      <th>CAR</th>\n",
       "      <td>123</td>\n",
       "      <td>453.0</td>\n",
       "      <td>41.8</td>\n",
       "      <td>1814.0</td>\n",
       "      <td>33.7</td>\n",
       "      <td>166.3</td>\n",
       "      <td>16.0</td>\n",
       "      <td>161.0</td>\n",
       "      <td>99.0</td>\n",
       "      <td>127.0</td>\n",
       "      <td>10.0</td>\n",
       "      <td>1.0</td>\n",
       "      <td>6.0</td>\n",
       "    </tr>\n",
       "  </tbody>\n",
       "</table>\n",
       "</div>"
      ],
      "text/plain": [
       "      Games_Played  Rushing_Attempts  Rushing_Attempts_Per_Game  \\\n",
       "Team                                                              \n",
       "ARI            158             398.0                       30.7   \n",
       "ATL            144             416.0                       32.1   \n",
       "BAL            202             367.0                       35.6   \n",
       "BUF            177             492.0                       35.7   \n",
       "CAR            123             453.0                       41.8   \n",
       "\n",
       "      Rushing_Yards  Yards_Per_Carry  Rushing_Yards_Per_Game  Rushing_TDs  \\\n",
       "Team                                                                        \n",
       "ARI           493.0             57.5                   132.1         20.0   \n",
       "ATL           844.0             35.2                   149.1         20.0   \n",
       "BAL          1463.0             48.3                   146.5         10.0   \n",
       "BUF          1363.0             72.8                   183.8         29.0   \n",
       "CAR          1814.0             33.7                   166.3         16.0   \n",
       "\n",
       "      Longest_Rushing_Run  Rushing_First_Downs  \\\n",
       "Team                                             \n",
       "ARI                  72.0                 97.0   \n",
       "ATL                  95.0                107.0   \n",
       "BAL                 158.0                 79.0   \n",
       "BUF                 150.0                146.0   \n",
       "CAR                 161.0                 99.0   \n",
       "\n",
       "      Percentage_of_Rushing_First_Downs  Rushing_More_Than_20_Yards  \\\n",
       "Team                                                                  \n",
       "ARI                               322.2                        10.0   \n",
       "ATL                               178.7                        15.0   \n",
       "BAL                               319.2                         8.0   \n",
       "BUF                               600.3                        27.0   \n",
       "CAR                               127.0                        10.0   \n",
       "\n",
       "      Rushing_More_Than_40_Yards  Fumbles  \n",
       "Team                                       \n",
       "ARI                          4.0     10.0  \n",
       "ATL                          4.0      3.0  \n",
       "BAL                          1.0      4.0  \n",
       "BUF                          5.0     11.0  \n",
       "CAR                          1.0      6.0  "
      ]
     },
     "execution_count": 11,
     "metadata": {},
     "output_type": "execute_result"
    }
   ],
   "source": [
    "# group df_run by team, then add together.\n",
    "df_run = df_run.groupby(['Team']).sum()\n",
    "df_run.head()"
   ]
  },
  {
   "cell_type": "code",
   "execution_count": 12,
   "metadata": {},
   "outputs": [],
   "source": [
    "run_td_list = []\n",
    "run_yds_list = []\n",
    "def run_merge(row):\n",
    "    run_yds_list.append(df_run.loc[row['Tm']]['Rushing_Yards'])\n",
    "    run_td_list.append(df_run.loc[row['Tm']]['Rushing_TDs'])\n",
    "    \n",
    "df.apply(run_merge, axis = 1)\n",
    "df['Rushing_Yards'] = run_yds_list\n",
    "df['Rushing_TDs'] = run_td_list"
   ]
  },
  {
   "cell_type": "code",
   "execution_count": 13,
   "metadata": {},
   "outputs": [
    {
     "data": {
      "text/html": [
       "<div>\n",
       "<style scoped>\n",
       "    .dataframe tbody tr th:only-of-type {\n",
       "        vertical-align: middle;\n",
       "    }\n",
       "\n",
       "    .dataframe tbody tr th {\n",
       "        vertical-align: top;\n",
       "    }\n",
       "\n",
       "    .dataframe thead th {\n",
       "        text-align: right;\n",
       "    }\n",
       "</style>\n",
       "<table border=\"1\" class=\"dataframe\">\n",
       "  <thead>\n",
       "    <tr style=\"text-align: right;\">\n",
       "      <th></th>\n",
       "      <th>Rk</th>\n",
       "      <th>Player</th>\n",
       "      <th>Tm</th>\n",
       "      <th>Age</th>\n",
       "      <th>Pos</th>\n",
       "      <th>G</th>\n",
       "      <th>GS</th>\n",
       "      <th>Cmp</th>\n",
       "      <th>Att</th>\n",
       "      <th>Cmp%</th>\n",
       "      <th>Yds</th>\n",
       "      <th>TD</th>\n",
       "      <th>TD%</th>\n",
       "      <th>Int</th>\n",
       "      <th>Int%</th>\n",
       "      <th>Lng</th>\n",
       "      <th>Y/A</th>\n",
       "      <th>AY/A</th>\n",
       "      <th>Y/C</th>\n",
       "      <th>Y/G</th>\n",
       "      <th>Rate</th>\n",
       "      <th>QBR</th>\n",
       "      <th>Sk</th>\n",
       "      <th>Yds.1</th>\n",
       "      <th>NY/A</th>\n",
       "      <th>ANY/A</th>\n",
       "      <th>Sk%</th>\n",
       "      <th>4QC</th>\n",
       "      <th>GWD</th>\n",
       "      <th>QBwin</th>\n",
       "      <th>QBlose</th>\n",
       "      <th>QBtie</th>\n",
       "      <th>QBwin%</th>\n",
       "      <th>Rushing_Yards</th>\n",
       "      <th>Rushing_TDs</th>\n",
       "    </tr>\n",
       "  </thead>\n",
       "  <tbody>\n",
       "    <tr>\n",
       "      <th>0</th>\n",
       "      <td>1</td>\n",
       "      <td>Drew Brees</td>\n",
       "      <td>NOR</td>\n",
       "      <td>37</td>\n",
       "      <td>QB</td>\n",
       "      <td>16</td>\n",
       "      <td>16</td>\n",
       "      <td>471</td>\n",
       "      <td>673</td>\n",
       "      <td>70.0</td>\n",
       "      <td>5208</td>\n",
       "      <td>37</td>\n",
       "      <td>5.5</td>\n",
       "      <td>15</td>\n",
       "      <td>2.2</td>\n",
       "      <td>98</td>\n",
       "      <td>7.7</td>\n",
       "      <td>7.8</td>\n",
       "      <td>11.1</td>\n",
       "      <td>325.5</td>\n",
       "      <td>101.7</td>\n",
       "      <td>65.1</td>\n",
       "      <td>27</td>\n",
       "      <td>184</td>\n",
       "      <td>7.18</td>\n",
       "      <td>7.27</td>\n",
       "      <td>3.9</td>\n",
       "      <td>2.0</td>\n",
       "      <td>4.0</td>\n",
       "      <td>7.0</td>\n",
       "      <td>9.0</td>\n",
       "      <td>0.0</td>\n",
       "      <td>43.75</td>\n",
       "      <td>699.0</td>\n",
       "      <td>17.0</td>\n",
       "    </tr>\n",
       "    <tr>\n",
       "      <th>1</th>\n",
       "      <td>2</td>\n",
       "      <td>Joe Flacco</td>\n",
       "      <td>BAL</td>\n",
       "      <td>31</td>\n",
       "      <td>QB</td>\n",
       "      <td>16</td>\n",
       "      <td>16</td>\n",
       "      <td>436</td>\n",
       "      <td>672</td>\n",
       "      <td>64.9</td>\n",
       "      <td>4317</td>\n",
       "      <td>20</td>\n",
       "      <td>3.0</td>\n",
       "      <td>15</td>\n",
       "      <td>2.2</td>\n",
       "      <td>95</td>\n",
       "      <td>6.4</td>\n",
       "      <td>6.0</td>\n",
       "      <td>9.9</td>\n",
       "      <td>269.8</td>\n",
       "      <td>83.5</td>\n",
       "      <td>52.7</td>\n",
       "      <td>33</td>\n",
       "      <td>243</td>\n",
       "      <td>5.78</td>\n",
       "      <td>5.39</td>\n",
       "      <td>4.7</td>\n",
       "      <td>2.0</td>\n",
       "      <td>2.0</td>\n",
       "      <td>8.0</td>\n",
       "      <td>8.0</td>\n",
       "      <td>0.0</td>\n",
       "      <td>50.00</td>\n",
       "      <td>1463.0</td>\n",
       "      <td>10.0</td>\n",
       "    </tr>\n",
       "    <tr>\n",
       "      <th>2</th>\n",
       "      <td>3</td>\n",
       "      <td>Blake Bortles</td>\n",
       "      <td>JAX</td>\n",
       "      <td>24</td>\n",
       "      <td>QB</td>\n",
       "      <td>16</td>\n",
       "      <td>16</td>\n",
       "      <td>368</td>\n",
       "      <td>625</td>\n",
       "      <td>58.9</td>\n",
       "      <td>3905</td>\n",
       "      <td>23</td>\n",
       "      <td>3.7</td>\n",
       "      <td>16</td>\n",
       "      <td>2.6</td>\n",
       "      <td>51</td>\n",
       "      <td>6.2</td>\n",
       "      <td>5.8</td>\n",
       "      <td>10.6</td>\n",
       "      <td>244.1</td>\n",
       "      <td>78.8</td>\n",
       "      <td>42.8</td>\n",
       "      <td>34</td>\n",
       "      <td>197</td>\n",
       "      <td>5.63</td>\n",
       "      <td>5.23</td>\n",
       "      <td>5.2</td>\n",
       "      <td>1.0</td>\n",
       "      <td>1.0</td>\n",
       "      <td>3.0</td>\n",
       "      <td>13.0</td>\n",
       "      <td>0.0</td>\n",
       "      <td>18.75</td>\n",
       "      <td>1616.0</td>\n",
       "      <td>8.0</td>\n",
       "    </tr>\n",
       "    <tr>\n",
       "      <th>3</th>\n",
       "      <td>4</td>\n",
       "      <td>Aaron Rodgers</td>\n",
       "      <td>GNB</td>\n",
       "      <td>33</td>\n",
       "      <td>QB</td>\n",
       "      <td>16</td>\n",
       "      <td>16</td>\n",
       "      <td>401</td>\n",
       "      <td>610</td>\n",
       "      <td>65.7</td>\n",
       "      <td>4428</td>\n",
       "      <td>40</td>\n",
       "      <td>6.6</td>\n",
       "      <td>7</td>\n",
       "      <td>1.1</td>\n",
       "      <td>60</td>\n",
       "      <td>7.3</td>\n",
       "      <td>8.1</td>\n",
       "      <td>11.0</td>\n",
       "      <td>276.8</td>\n",
       "      <td>104.2</td>\n",
       "      <td>73.8</td>\n",
       "      <td>35</td>\n",
       "      <td>246</td>\n",
       "      <td>6.48</td>\n",
       "      <td>7.24</td>\n",
       "      <td>5.4</td>\n",
       "      <td>0.0</td>\n",
       "      <td>2.0</td>\n",
       "      <td>10.0</td>\n",
       "      <td>6.0</td>\n",
       "      <td>0.0</td>\n",
       "      <td>62.50</td>\n",
       "      <td>1669.0</td>\n",
       "      <td>11.0</td>\n",
       "    </tr>\n",
       "    <tr>\n",
       "      <th>4</th>\n",
       "      <td>5</td>\n",
       "      <td>Carson Wentz</td>\n",
       "      <td>PHI</td>\n",
       "      <td>24</td>\n",
       "      <td>QB</td>\n",
       "      <td>16</td>\n",
       "      <td>16</td>\n",
       "      <td>379</td>\n",
       "      <td>607</td>\n",
       "      <td>62.4</td>\n",
       "      <td>3782</td>\n",
       "      <td>16</td>\n",
       "      <td>2.6</td>\n",
       "      <td>14</td>\n",
       "      <td>2.3</td>\n",
       "      <td>73</td>\n",
       "      <td>6.2</td>\n",
       "      <td>5.7</td>\n",
       "      <td>10.0</td>\n",
       "      <td>236.4</td>\n",
       "      <td>79.3</td>\n",
       "      <td>49.4</td>\n",
       "      <td>33</td>\n",
       "      <td>213</td>\n",
       "      <td>5.58</td>\n",
       "      <td>5.09</td>\n",
       "      <td>5.2</td>\n",
       "      <td>1.0</td>\n",
       "      <td>1.0</td>\n",
       "      <td>7.0</td>\n",
       "      <td>9.0</td>\n",
       "      <td>0.0</td>\n",
       "      <td>43.75</td>\n",
       "      <td>1813.0</td>\n",
       "      <td>16.0</td>\n",
       "    </tr>\n",
       "  </tbody>\n",
       "</table>\n",
       "</div>"
      ],
      "text/plain": [
       "   Rk         Player   Tm  Age Pos   G  GS  Cmp  Att  Cmp%   Yds  TD  TD%  \\\n",
       "0   1     Drew Brees  NOR   37  QB  16  16  471  673  70.0  5208  37  5.5   \n",
       "1   2     Joe Flacco  BAL   31  QB  16  16  436  672  64.9  4317  20  3.0   \n",
       "2   3  Blake Bortles  JAX   24  QB  16  16  368  625  58.9  3905  23  3.7   \n",
       "3   4  Aaron Rodgers  GNB   33  QB  16  16  401  610  65.7  4428  40  6.6   \n",
       "4   5   Carson Wentz  PHI   24  QB  16  16  379  607  62.4  3782  16  2.6   \n",
       "\n",
       "   Int  Int%  Lng  Y/A  AY/A   Y/C    Y/G   Rate   QBR  Sk  Yds.1  NY/A  \\\n",
       "0   15   2.2   98  7.7   7.8  11.1  325.5  101.7  65.1  27    184  7.18   \n",
       "1   15   2.2   95  6.4   6.0   9.9  269.8   83.5  52.7  33    243  5.78   \n",
       "2   16   2.6   51  6.2   5.8  10.6  244.1   78.8  42.8  34    197  5.63   \n",
       "3    7   1.1   60  7.3   8.1  11.0  276.8  104.2  73.8  35    246  6.48   \n",
       "4   14   2.3   73  6.2   5.7  10.0  236.4   79.3  49.4  33    213  5.58   \n",
       "\n",
       "   ANY/A  Sk%  4QC  GWD  QBwin  QBlose  QBtie  QBwin%  Rushing_Yards  \\\n",
       "0   7.27  3.9  2.0  4.0    7.0     9.0    0.0   43.75          699.0   \n",
       "1   5.39  4.7  2.0  2.0    8.0     8.0    0.0   50.00         1463.0   \n",
       "2   5.23  5.2  1.0  1.0    3.0    13.0    0.0   18.75         1616.0   \n",
       "3   7.24  5.4  0.0  2.0   10.0     6.0    0.0   62.50         1669.0   \n",
       "4   5.09  5.2  1.0  1.0    7.0     9.0    0.0   43.75         1813.0   \n",
       "\n",
       "   Rushing_TDs  \n",
       "0         17.0  \n",
       "1         10.0  \n",
       "2          8.0  \n",
       "3         11.0  \n",
       "4         16.0  "
      ]
     },
     "execution_count": 13,
     "metadata": {},
     "output_type": "execute_result"
    }
   ],
   "source": [
    "df.head()"
   ]
  },
  {
   "cell_type": "code",
   "execution_count": 14,
   "metadata": {},
   "outputs": [
    {
     "data": {
      "text/plain": [
       "Rk              -0.383626\n",
       "Age              0.326116\n",
       "G                0.504449\n",
       "GS               0.520878\n",
       "Cmp              0.509690\n",
       "Att              0.476504\n",
       "Cmp%             0.446663\n",
       "Yds              0.616831\n",
       "TD               0.863558\n",
       "TD%              1.000000\n",
       "Int              0.108271\n",
       "Int%            -0.304491\n",
       "Lng              0.187266\n",
       "Y/A              0.718339\n",
       "AY/A             0.770051\n",
       "Y/C              0.517496\n",
       "Y/G              0.657907\n",
       "Rate             0.758195\n",
       "QBR              0.738103\n",
       "Sk               0.228052\n",
       "Yds.1            0.202902\n",
       "NY/A             0.726855\n",
       "ANY/A            0.778069\n",
       "Sk%             -0.400363\n",
       "4QC             -0.039211\n",
       "GWD              0.117480\n",
       "QBwin            0.591395\n",
       "QBlose          -0.016240\n",
       "QBtie           -0.049153\n",
       "QBwin%           0.554299\n",
       "Rushing_Yards   -0.323654\n",
       "Rushing_TDs      0.318015\n",
       "Name: TD%, dtype: float64"
      ]
     },
     "execution_count": 14,
     "metadata": {},
     "output_type": "execute_result"
    }
   ],
   "source": [
    "df.corr()['TD%']"
   ]
  },
  {
   "cell_type": "markdown",
   "metadata": {},
   "source": [
    "### What is the structure of your dataset?\n",
    "\n",
    "This dataset contains 96 rows and 32 columns. There are 3 catagorical columns, while the rest are numerical. Those columns are 'Rk', 'Player', 'Tm', 'Age', 'Pos', 'G', 'GS', 'Cmp', 'Att', 'Cmp%', 'Yds', 'TD', 'TD%', 'Int', 'Int%', 'Lng', 'Y/A', 'AY/A', 'Y/C', 'Y/G', 'Rate', 'QBR', 'Sk', 'Yds.1', 'NY/A', 'ANY/A', 'Sk%', '4QC', 'GWD', 'QBwin', 'QBlose', and 'QBtie'. I added the columns 'Rushing_Yards and Rushing_TDs from the other dataset. \n",
    "\n",
    "### What is/are the main feature(s) of interest in your dataset?\n",
    "\n",
    "I am looking to discover what features lead to a higher touchdown per pass attempt ratio (TD%).\n",
    "\n",
    "### What features in the dataset do you think will help support your investigation into your feature(s) of interest?\n",
    "\n",
    "I believe based on the coorelation numbers shown above, completion percentage (Cmp%), yards per attempt (Y/A), yards per catch (Y/C), yards per game (Y/G),  quarterback rating (QBR) and QB win percentage (QBwin%) will have an effect on this number. "
   ]
  },
  {
   "cell_type": "markdown",
   "metadata": {},
   "source": [
    "## Univariate Exploration"
   ]
  },
  {
   "cell_type": "markdown",
   "metadata": {},
   "source": [
    "### Distribution of Completion Percentage"
   ]
  },
  {
   "cell_type": "code",
   "execution_count": 15,
   "metadata": {},
   "outputs": [
    {
     "data": {
      "text/plain": [
       "count    39.000000\n",
       "mean     62.446154\n",
       "std       4.559827\n",
       "min      52.900000\n",
       "25%      59.200000\n",
       "50%      62.400000\n",
       "75%      65.650000\n",
       "max      71.600000\n",
       "Name: Cmp%, dtype: float64"
      ]
     },
     "execution_count": 15,
     "metadata": {},
     "output_type": "execute_result"
    }
   ],
   "source": [
    "# Stats on Cmp% column.\n",
    "cmp = df['Cmp%'].describe()\n",
    "cmp"
   ]
  },
  {
   "cell_type": "code",
   "execution_count": 16,
   "metadata": {},
   "outputs": [
    {
     "data": {
      "image/png": "[encoded data removed]",
      "text/plain": [
       "<Figure size 432x288 with 1 Axes>"
      ]
     },
     "metadata": {
      "needs_background": "light"
     },
     "output_type": "display_data"
    }
   ],
   "source": [
    "#Distribution of completion percentage\n",
    "bins = np.arange(cmp['min'].astype(int), (cmp['max'] + 1).round(0).astype(int), 1)\n",
    "ticks = bins\n",
    "labels = [\"{}\".format(val) for val in ticks]\n",
    "\n",
    "plt.hist(data = df, x = 'Cmp%', bins = bins)\n",
    "plt.title('Distribution of Completion Percentage')\n",
    "plt.xlabel('Completion Percentage')\n",
    "plt.xticks(ticks, labels, rotation = 90);"
   ]
  },
  {
   "cell_type": "markdown",
   "metadata": {},
   "source": [
    "The distribution of completion percentage ranges from 52% to 72%. A majority of the players tend to fall to the center of the distribution."
   ]
  },
  {
   "cell_type": "markdown",
   "metadata": {},
   "source": [
    "### Distribution of Average Yards per Attempt"
   ]
  },
  {
   "cell_type": "code",
   "execution_count": 17,
   "metadata": {},
   "outputs": [
    {
     "data": {
      "text/plain": [
       "count    39.000000\n",
       "mean      7.092308\n",
       "std       0.770982\n",
       "min       5.300000\n",
       "25%       6.700000\n",
       "50%       7.100000\n",
       "75%       7.600000\n",
       "max       9.300000\n",
       "Name: Y/A, dtype: float64"
      ]
     },
     "execution_count": 17,
     "metadata": {},
     "output_type": "execute_result"
    }
   ],
   "source": [
    "# Stats on Y/A column.\n",
    "ypa = df['Y/A'].describe()\n",
    "ypa"
   ]
  },
  {
   "cell_type": "code",
   "execution_count": 18,
   "metadata": {},
   "outputs": [
    {
     "data": {
      "image/png": "[encoded data removed]",
      "text/plain": [
       "<Figure size 432x288 with 1 Axes>"
      ]
     },
     "metadata": {
      "needs_background": "light"
     },
     "output_type": "display_data"
    }
   ],
   "source": [
    "# Distribution of Average Yards per Attempt\n",
    "bins = np.arange(ypa['min'].astype(int), ypa['max'].round() + 1, 0.25)\n",
    "ticks = bins\n",
    "labels = [\"{}\".format(val) for val in ticks]\n",
    "\n",
    "plt.hist(data = df, x = 'Y/A', bins = bins)\n",
    "plt.title('Distribution of Average Yards per Attempt')\n",
    "plt.xlabel('Yards per Attempt')\n",
    "plt.xticks(ticks, labels, rotation = 90);"
   ]
  },
  {
   "cell_type": "markdown",
   "metadata": {},
   "source": [
    "The distribution of average yards per attempt ranges from 5.25 to 9.25, with the majority of the players falling to the center of the distribution. Almost half of all players are in the 7.0 and 7.75 bins."
   ]
  },
  {
   "cell_type": "markdown",
   "metadata": {},
   "source": [
    "### Distribution of Average Yards per Catch"
   ]
  },
  {
   "cell_type": "code",
   "execution_count": 19,
   "metadata": {},
   "outputs": [
    {
     "data": {
      "text/plain": [
       "count    39.000000\n",
       "mean     11.371795\n",
       "std       0.958329\n",
       "min       9.700000\n",
       "25%      10.750000\n",
       "50%      11.400000\n",
       "75%      12.050000\n",
       "max      13.300000\n",
       "Name: Y/C, dtype: float64"
      ]
     },
     "execution_count": 19,
     "metadata": {},
     "output_type": "execute_result"
    }
   ],
   "source": [
    "# Stats on Y/C column.\n",
    "ypc = df['Y/C'].describe()\n",
    "ypc"
   ]
  },
  {
   "cell_type": "code",
   "execution_count": 20,
   "metadata": {},
   "outputs": [
    {
     "data": {
      "image/png": "[encoded data removed]",
      "text/plain": [
       "<Figure size 432x288 with 1 Axes>"
      ]
     },
     "metadata": {
      "needs_background": "light"
     },
     "output_type": "display_data"
    }
   ],
   "source": [
    "#Distribution of Average Yards per Catch\n",
    "bins = np.arange(ypc['min'].astype(int), ypc['max'].round() + 1, 0.25)\n",
    "ticks = bins\n",
    "labels = [\"{}\".format(val) for val in ticks]\n",
    "\n",
    "plt.hist(data = df, x = 'Y/C', bins = bins)\n",
    "plt.title('Distribution of Average Yards per Catch')\n",
    "plt.xlabel('Yards per Catch')\n",
    "plt.xticks(ticks, labels, rotation = 90);"
   ]
  },
  {
   "cell_type": "markdown",
   "metadata": {},
   "source": [
    "The distribution of average yards per catch ranges from 9.5 to 13.5. The majority of players range from 10.5 to 12.75."
   ]
  },
  {
   "cell_type": "markdown",
   "metadata": {},
   "source": [
    "### Distribution of Average Yards per Game"
   ]
  },
  {
   "cell_type": "code",
   "execution_count": 21,
   "metadata": {},
   "outputs": [
    {
     "data": {
      "text/plain": [
       "count     39.000000\n",
       "mean     237.882051\n",
       "std       45.415519\n",
       "min      134.800000\n",
       "25%      215.900000\n",
       "50%      240.800000\n",
       "75%      270.100000\n",
       "max      325.500000\n",
       "Name: Y/G, dtype: float64"
      ]
     },
     "execution_count": 21,
     "metadata": {},
     "output_type": "execute_result"
    }
   ],
   "source": [
    "# # Stats on Y/G column\n",
    "ypg = df['Y/G'].describe()\n",
    "ypg"
   ]
  },
  {
   "cell_type": "code",
   "execution_count": 22,
   "metadata": {},
   "outputs": [
    {
     "data": {
      "image/png": "[encoded data removed]",
      "text/plain": [
       "<Figure size 432x288 with 1 Axes>"
      ]
     },
     "metadata": {
      "needs_background": "light"
     },
     "output_type": "display_data"
    }
   ],
   "source": [
    "#Distribution of Average Yards per Game\n",
    "bins = np.arange(ypg['min'], ypg['max'] + 10, 10).astype(int)\n",
    "ticks = bins\n",
    "labels = [\"{}\".format(val) for val in ticks]\n",
    "\n",
    "plt.hist(data = df, x = 'Y/G', bins = bins)\n",
    "plt.title('Distribution of Average Yards per Game')\n",
    "plt.xlabel('Yards per Game')\n",
    "plt.xticks(ticks, labels, rotation = 90);"
   ]
  },
  {
   "cell_type": "markdown",
   "metadata": {},
   "source": [
    "The distribution of average yards per game ranges from 145 to 334. The majority of players range from 224 to 284."
   ]
  },
  {
   "cell_type": "markdown",
   "metadata": {},
   "source": [
    "### Distribution of Quarterback Rating"
   ]
  },
  {
   "cell_type": "code",
   "execution_count": 23,
   "metadata": {},
   "outputs": [
    {
     "data": {
      "text/plain": [
       "count    39.000000\n",
       "mean     52.351282\n",
       "std      15.069730\n",
       "min      16.100000\n",
       "25%      45.400000\n",
       "50%      53.700000\n",
       "75%      60.550000\n",
       "max      79.400000\n",
       "Name: QBR, dtype: float64"
      ]
     },
     "execution_count": 23,
     "metadata": {},
     "output_type": "execute_result"
    }
   ],
   "source": [
    "# Stats on QBR column\n",
    "qbr = df['QBR'].describe()\n",
    "qbr"
   ]
  },
  {
   "cell_type": "code",
   "execution_count": 24,
   "metadata": {},
   "outputs": [
    {
     "data": {
      "image/png": "[encoded data removed]",
      "text/plain": [
       "<Figure size 432x288 with 1 Axes>"
      ]
     },
     "metadata": {
      "needs_background": "light"
     },
     "output_type": "display_data"
    }
   ],
   "source": [
    "# Distribution of QBR\n",
    "bins = np.arange(qbr['min'].astype(int), qbr['max'] + 5, 5).astype(int)\n",
    "ticks = bins\n",
    "labels = [\"{}\".format(val) for val in ticks]\n",
    "\n",
    "plt.hist(data = df, x = 'QBR', bins = bins)\n",
    "plt.title('Distribution of Quarterback Rating')\n",
    "plt.xlabel('Quarterback Rating')\n",
    "plt.xticks(ticks, labels, rotation = 90);"
   ]
  },
  {
   "cell_type": "markdown",
   "metadata": {},
   "source": [
    "The distribution of quarterback rating ranges from 16 to 76. The majority of players range on the higher end from 46 to 66."
   ]
  },
  {
   "cell_type": "markdown",
   "metadata": {},
   "source": [
    "### Distribution of Quarterback Win Percentage"
   ]
  },
  {
   "cell_type": "code",
   "execution_count": 25,
   "metadata": {},
   "outputs": [
    {
     "data": {
      "text/plain": [
       "count    39.000000\n",
       "mean     43.816282\n",
       "std      23.658166\n",
       "min       0.000000\n",
       "25%      22.500000\n",
       "50%      46.667000\n",
       "75%      59.340500\n",
       "max      91.667000\n",
       "Name: QBwin%, dtype: float64"
      ]
     },
     "execution_count": 25,
     "metadata": {},
     "output_type": "execute_result"
    }
   ],
   "source": [
    "# Stats on QBwin% column\n",
    "qbwin = df['QBwin%'].describe()\n",
    "qbwin"
   ]
  },
  {
   "cell_type": "code",
   "execution_count": 26,
   "metadata": {},
   "outputs": [
    {
     "data": {
      "image/png": "[encoded data removed]",
      "text/plain": [
       "<Figure size 432x288 with 1 Axes>"
      ]
     },
     "metadata": {
      "needs_background": "light"
     },
     "output_type": "display_data"
    }
   ],
   "source": [
    "# Distribution of Quartrback Win Percentage\n",
    "bins = np.arange(qbwin['min'], qbwin['max'] + 10, 10).astype(int)\n",
    "ticks = bins\n",
    "labels = [\"{}\".format(val)  for val in ticks]\n",
    "\n",
    "plt.hist(data = df, x = 'QBwin%', bins = bins)\n",
    "plt.title('Distribution of Quartrback Win Percentage')\n",
    "plt.xlabel('Quartrback Win Percentage')\n",
    "plt.xticks(ticks, labels, rotation = 90);"
   ]
  },
  {
   "cell_type": "markdown",
   "metadata": {},
   "source": [
    "The distribution of quarterback win percentage ranges from 0% to 100%. The majority of players range from 20% to 70%."
   ]
  },
  {
   "cell_type": "markdown",
   "metadata": {},
   "source": [
    "### Discuss the distribution(s) of your variable(s) of interest.\n",
    "\n",
    "The distribution of completion percentage ranges from 52% to 72%. A majority of the players tend to fall to the center of the distribution. The distribution of average yards per attempt ranges from 5.25 to 9.25, with the majority of the players falling to the center of the distribution. Almost half of all players are in the 7.0 and 7.75 bins. The distribution of average yards per catch ranges from 9.5 to 13.5. The majority of players range from 10.5 to 12.75. The distribution of average yards per game ranges from 145 to 334. The majority of players range from 224 to 284. The distribution of quarterback rating ranges from 16 to 76. The majority of players range on the higher end from 46 to 66. The distribution of quarterback win percentage ranges from 0% to 100%. The majority of players range from 20% to 70%."
   ]
  },
  {
   "cell_type": "markdown",
   "metadata": {},
   "source": [
    "## Bivariate Exploration"
   ]
  },
  {
   "cell_type": "markdown",
   "metadata": {},
   "source": [
    "### Touchdown Percentage by Completion Percentage"
   ]
  },
  {
   "cell_type": "code",
   "execution_count": 27,
   "metadata": {},
   "outputs": [
    {
     "data": {
      "image/png": "[encoded data removed]",
      "text/plain": [
       "<Figure size 432x288 with 1 Axes>"
      ]
     },
     "metadata": {
      "needs_background": "light"
     },
     "output_type": "display_data"
    }
   ],
   "source": [
    "#Touchdown Percentage by Completion Percentage\n",
    "sb.regplot(df['TD%'], df['Cmp%'])\n",
    "plt.scatter(data = df, x = 'TD%', y = 'Cmp%')\n",
    "plt.title('Touchdown Percentage by Completion Percentage')\n",
    "plt.xlabel('Touchdown Percentage')\n",
    "plt.ylabel('Completion Percentage');"
   ]
  },
  {
   "cell_type": "markdown",
   "metadata": {},
   "source": [
    "There appears to be a moderate positive coorelation between touchdown percentage and completion percentage. This coorelation weakens at moderate levels before climbing again, suggesting that there are several quarterbacks who have high completion percentages yet fail to score many touchdowns. "
   ]
  },
  {
   "cell_type": "markdown",
   "metadata": {},
   "source": [
    "### Touchdown Percentage by Yards per Pass Attempt"
   ]
  },
  {
   "cell_type": "code",
   "execution_count": 28,
   "metadata": {},
   "outputs": [
    {
     "data": {
      "image/png": "[encoded data removed]",
      "text/plain": [
       "<Figure size 432x288 with 1 Axes>"
      ]
     },
     "metadata": {
      "needs_background": "light"
     },
     "output_type": "display_data"
    }
   ],
   "source": [
    "#Touchdown Percentage by Yards per Pass Attempt\n",
    "sb.regplot(df['TD%'], df['Y/A'])\n",
    "plt.scatter(data = df, x = 'TD%', y = 'Y/A')\n",
    "plt.title('Touchdown Percentage by Yards per Pass Attempt')\n",
    "plt.xlabel('Touchdown Percentage')\n",
    "plt.ylabel('Yards per Pass Attempt');"
   ]
  },
  {
   "cell_type": "markdown",
   "metadata": {},
   "source": [
    "There is a strong positive coorelation between touchdown percantage and yards per pass attempt. Note the groups of quarterbacks who have very similar stats."
   ]
  },
  {
   "cell_type": "markdown",
   "metadata": {},
   "source": [
    "### Touchdown Percentage by Yards per Catch"
   ]
  },
  {
   "cell_type": "code",
   "execution_count": 29,
   "metadata": {},
   "outputs": [
    {
     "data": {
      "image/png": "[encoded data removed]",
      "text/plain": [
       "<Figure size 432x288 with 1 Axes>"
      ]
     },
     "metadata": {
      "needs_background": "light"
     },
     "output_type": "display_data"
    }
   ],
   "source": [
    "#Touchdown Percentage by Yards per Catch\n",
    "sb.regplot(df['TD%'], df['Y/C'])\n",
    "plt.scatter(data = df, x = 'TD%', y = 'Y/C')\n",
    "plt.title('Touchdown Percentage by Yards per Catch')\n",
    "plt.xlabel('Touchdown Percentage')\n",
    "plt.ylabel('Yards per Catch');"
   ]
  },
  {
   "cell_type": "markdown",
   "metadata": {},
   "source": [
    "There is a moderate positive coorelation between touchdown percentage and yards per catch. Interesting here is the small groups of quarterbacks that have similar stats."
   ]
  },
  {
   "cell_type": "markdown",
   "metadata": {},
   "source": [
    "### Touchdown Percentage by Yards per Game"
   ]
  },
  {
   "cell_type": "code",
   "execution_count": 30,
   "metadata": {},
   "outputs": [
    {
     "data": {
      "image/png": "[encoded data removed]",
      "text/plain": [
       "<Figure size 432x288 with 1 Axes>"
      ]
     },
     "metadata": {
      "needs_background": "light"
     },
     "output_type": "display_data"
    }
   ],
   "source": [
    "#Touchdown Percentage by Yards per Game\n",
    "sb.regplot(df['TD%'], df['Y/G'])\n",
    "plt.scatter(data = df, x = 'TD%', y = 'Y/G')\n",
    "plt.title('Touchdown Percentage by Yards per Game')\n",
    "plt.xlabel('Touchdown Percentage')\n",
    "plt.ylabel('Yards per Game');"
   ]
  },
  {
   "cell_type": "markdown",
   "metadata": {},
   "source": [
    "There is a strong positive coorelation between touchdown percentage and yards per game. It could be that quarterbacks who are higher skilled are allowed to throw the ball more."
   ]
  },
  {
   "cell_type": "markdown",
   "metadata": {},
   "source": [
    "### Talk about some of the relationships you observed in this part of the investigation. \n",
    "\n",
    "There appears to be a moderate positive coorelation between touchdown percentage and completion percentage. This coorelation weakens at moderate levels before climbing again, suggesting that there are several quarterbacks who have high completion percentages yet fail to score many touchdowns. There is a strong positive coorelation between touchdown percantage and yards per pass attempt. Note the groups of quarterbacks who have very similar stats. There is a moderate positive coorelation between touchdown percentage and yards per catch. An interesting find is the small groups of quarterbacks that have similar stats. There is a strong positive coorelation between touchdown percentage and yards per game. It could be that quarterbacks who are higher skilled are allowed to throw the ball more."
   ]
  },
  {
   "cell_type": "markdown",
   "metadata": {},
   "source": [
    "## Multivariate Exploration\n",
    "\n",
    "> Create plots of three or more variables to investigate your data even\n",
    "further. Make sure that your investigations are justified, and follow from\n",
    "your work in the previous sections."
   ]
  },
  {
   "cell_type": "code",
   "execution_count": null,
   "metadata": {},
   "outputs": [],
   "source": []
  },
  {
   "cell_type": "markdown",
   "metadata": {},
   "source": [
    "### Talk about some of the relationships you observed in this part of the investigation. Were there features that strengthened each other in terms of looking at your feature(s) of interest?\n",
    "\n",
    "> Your answer here!\n",
    "\n",
    "### Were there any interesting or surprising interactions between features?\n",
    "\n",
    "> Your answer here!"
   ]
  },
  {
   "cell_type": "markdown",
   "metadata": {},
   "source": [
    "> At the end of your report, make sure that you export the notebook as an\n",
    "html file from the `File > Download as... > HTML` menu. Make sure you keep\n",
    "track of where the exported file goes, so you can put it in the same folder\n",
    "as this notebook for project submission. Also, make sure you remove all of\n",
    "the quote-formatted guide notes like this one before you finish your report!"
   ]
  },
  {
   "cell_type": "code",
   "execution_count": null,
   "metadata": {},
   "outputs": [],
   "source": []
  }
 ],
 "metadata": {
  "kernelspec": {
   "display_name": "Python 3",
   "language": "python",
   "name": "python3"
  },
  "language_info": {
   "codemirror_mode": {
    "name": "ipython",
    "version": 3
   },
   "file_extension": ".py",
   "mimetype": "text/x-python",
   "name": "python",
   "nbconvert_exporter": "python",
   "pygments_lexer": "ipython3",
   "version": "3.7.6"
  }
 },
 "nbformat": 4,
 "nbformat_minor": 2
}
